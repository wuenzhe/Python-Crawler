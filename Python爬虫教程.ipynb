{
 "cells": [
  {
   "cell_type": "markdown",
   "id": "05902167-2c12-4e7b-9811-505af3f77e8c",
   "metadata": {
    "tags": []
   },
   "source": [
    "# Python爬虫教程\n",
    "\n",
    "课程来源：[Python超强爬虫8天速成（完整版）爬取各种网站数据实战案例](https://www.bilibili.com/video/BV1ha4y1H7sx?p=6&spm_id_from=pageDriver)\n",
    "\n",
    "## 使用场景\n",
    "\n",
    "通用爬虫：抓取系统的组成部分，抓取一张页面数据\n",
    "\n",
    "聚焦爬虫：在通用的基础上，抓取特定内容\n",
    "\n",
    "增量式爬虫：检测网站中数据更新"
   ]
  },
  {
   "cell_type": "markdown",
   "id": "8ffbfde9-d1a3-4794-a671-ecd6c58bac85",
   "metadata": {
    "tags": []
   },
   "source": [
    "## http协议\n",
    "服务器与客户端进行数据交互的一种形式\n",
    "\n",
    "常用请求头信息\n",
    "\n",
    "- User-Agent：请求载体的身份标识\n",
    "\n",
    "- Connection：请求完毕后，是断开连接还是保持\n",
    "\n",
    "常用响应头协议\n",
    "- Content-Type：服务器响应客户端的数据类型\n",
    "\n",
    "## https协议\n",
    "\n",
    "- 安全的超文本协议\n",
    "\n",
    "加密方式\n",
    "\n",
    "- 对称密钥加密\n",
    "\n",
    "- 非对称密钥加密\n",
    "\n",
    "- 证书密钥加密"
   ]
  },
  {
   "cell_type": "markdown",
   "id": "f21161a0-41b6-42ae-8d51-fd9a6eca5076",
   "metadata": {},
   "source": [
    "## requests模块\n",
    "\n",
    "作用：模拟浏览器发送请求\n",
    "\n",
    "如何使用：\n",
    "\n",
    "- 指定url\n",
    "\n",
    "- 发起请求\n",
    "\n",
    "- 获取响应数据\n",
    "\n",
    "- 持久化存储"
   ]
  },
  {
   "cell_type": "code",
   "execution_count": 22,
   "id": "2b0b19ed-7588-4cf1-9573-af2a5f3b7569",
   "metadata": {},
   "outputs": [
    {
     "name": "stdout",
     "output_type": "stream",
     "text": [
      "<!DOCTYPE html><html lang=\"cn\"><head><meta name=\"viewport\" content=\"width=device-width,minimum-scale=1,maximum-scale=1,user-scalable=no\"><script>window._speedMark = new Date();  window.lead_ip = '120.235.33.120';\n",
      "    window.now = 1654419720268;</script><script type=\"text/javascript\">/*file=static/js/resourceErrorReport.js*/!function(a){var n=(new Date).getTime(),r=a.location.protocol;function c(e,t){var o=(new Date).getTime()-n;(new Image).src=[\"//pb.sogou.com/pv.gif?uigs_productid=wapapp&type=resource-error&stype=\",e,\"&timestamp=\",o,\"&protocol=\",r,\"&host=\",encodeURIComponent(a.location.host),\"&path=\",encodeURIComponent(a.location.pathname),\"&resource=\",encodeURIComponent(t)].join(\"\")}function e(e){if((e=e||a.event)&&\"error\"===e.type){var t=e.srcElement?e.srcElement:e.target;if(t){var o,n,r=t.tagName;\"LINK\"===r?(n=\"css\",(o=t.getAttribute(\"href\"))&&o.match(/\\.css($|\\?)/)&&c(n,o)):\"SCRIPT\"===r&&(n=\"js\",(o=t.getAttribute(\"src\"))&&o.match(/\\.js($|\\?)/)&&c(n,o))}}}r&&(r=r.substring(0,r.length-1)),a.addEventListener?a.addEventListener(\"error\",e,!0):a.attachEvent&&a.attachEvent(\"onerror\",e)}(window);</script><meta charset=\"utf-8\"><link rel=\"dns-prefetch\" href=\"//img01.sogoucdn.com\"><link rel=\"dns-prefetch\" href=\"//img02.sogoucdn.com\"><link rel=\"dns-prefetch\" href=\"//img03.sogoucdn.com\"><link rel=\"dns-prefetch\" href=\"//img04.sogoucdn.com\"><link rel=\"dns-prefetch\" href=\"//dlweb.sogoucdn.com\"><title>搜狗搜索引擎 - 上网从搜狗开始</title><link rel=\"shortcut icon\" href=\"/images/logo/new/favicon.ico?v=4\" type=\"image/x-icon\"><meta http-equiv=\"X-UA-Compatible\" content=\"IE=Edge\"><link rel=\"search\" type=\"application/opensearchdescription+xml\" href=\"/content-search.xml\" title=\"搜狗搜索\"><meta name=\"keywords\" content=\"搜狗搜索,网页搜索,微信搜索,视频搜索,图片搜索,音乐搜索,新闻搜索,软件搜索,问答搜索,百科搜索,购物搜索\"><meta name=\"description\" content=\"搜狗搜索是全球第三代互动式搜索引擎，支持微信公众号和文章搜索、知乎搜索、英文搜索及翻译等，通过自主研发的人工智能算法为用户提供专业、精准、便捷的搜索服务。\"><link rel=\"stylesheet\" type=\"text/css\" href=\"//dlweb.sogoucdn.com/pcsearch/web/index/css/index_style_39e6e10.css\"><style>.wrapper .suggestion{border:1px solid #e8e8e8;width:653px;-moz-box-shadow:0 1px 8px rgba(0,0,0,.1);-webkit-box-shadow:0 1px 8px rgba(0,0,0,.1);box-shadow:0 1px 8px rgba(0,0,0,.1);border-top-left-radius:0;border-top-right-radius:0;border-bottom-right-radius:2px;border-bottom-left-radius:2px;top:43px}.wrapper .suglist{width:206px}.wrapper .suglist .keyword{color:#7a77c8}.big-scn .suggestion{width:820px}.big-scn .suglist{width:236px}.wrapper .suglist{padding:4px 0}input[type=text]::-ms-clear{display:none}</style><!-- indexSnippetToHeader start -->  <!-- indexSnippetToHeader end --></head><body color-style=\"white\"><div class=\"wrapper \" id=\"wrap\"><div class=\"header\"> <div class=\"top-nav\"><ul><li class=\"cur\"><span>网页</span></li><li><a onclick=\"st(this,'73141200','weixin')\" href=\"http://weixin.sogou.com/\" uigs-id=\"nav_weixin\" id=\"weixinch\">微信</a></li><li><a onclick=\"st(this,'40051200','zhihu')\" href=\"http://zhihu.sogou.com/\" uigs-id=\"nav_zhihu\" id=\"zhihu\">知乎</a></li><li><a onclick=\"st(this,'40030500','pic')\" href=\"http://pic.sogou.com\" uigs-id=\"nav_pic\" id=\"pic\">图片</a></li><li><a onclick=\"st(this,'40030600','video')\" href=\"https://v.sogou.com/\" uigs-id=\"nav_v\" id=\"video\">视频</a></li><li><a href=\"http://mingyi.sogou.com?fr=common_index_nav\" uigs-id=\"nav_mingyi\" id=\"mingyi\" onclick=\"st(this,'','myingyi')\">医疗</a></li><li><a href=\"http://hanyu.sogou.com?fr=pcweb_index_nav\" uigs-id=\"nav_hanyu\" id=\"hanyu\" onclick=\"st(this,'','hanyu')\">汉语</a></li><li><a href=\"http://fanyi.sogou.com?fr=common_index_nav_pc\" uigs-id=\"nav_fanyi\" id=\"fanyi\" onclick=\"st(this,'','fanyi')\">翻译</a></li><li><a onclick=\"st(this,'web2ww','wenwen')\" href=\"https://wenwen.sogou.com/?ch=websearch\" uigs-id=\"nav_wenwen\" id=\"index_more_wenwen\">问问</a></li><li><a onclick=\"st(this,'web2ww','baike')\" href=\"http://baike.sogou.com/Home.v\" uigs-id=\"nav_baike\" id=\"index_baike\">百科</a></li><li><a onclick=\"st(this,'40031000')\" href=\"http://map.sogou.com\" uigs-id=\"nav_map\" id=\"map\">地图</a></li><li class=\"show-more\"><a href=\"javascript:void(0);\" id=\"more-product\">更多<i class=\"m-arr\"></i></a><div class=\"pos-more\" id=\"products-box\" style=\"top:40px\"><span class=\"ico-san\"></span><a onclick=\"st(this,'40031500')\" href=\"http://gouwu.sogou.com/\" uigs-id=\"nav_gouwu\" id=\"index_more_gouwu\">购物</a><a onclick=\"st(this)\" href=\"http://zhishi.sogou.com\" uigs-id=\"nav_zhishi\" id=\"index_more_zhishi\">知识</a><a onclick=\"st(this,'40051205')\" href=\"http://as.sogou.com/\" uigs-id=\"nav_app\" id=\"index_more_appli\">应用</a><a href=\"https://baike.sogou.com/kexue/home.htm\" uigs-id=\"nav_science\" id=\"science\">科学</a><span class=\"all\"><a onclick=\"st(this,'40051206')\" href=\"http://www.sogou.com/docs/more.htm?v=1\" uigs-id=\"nav_all\" target=\"_blank\">全部</a></span></div></li></ul></div><div class=\"user-box\">  <a href=\"javascript:void(0)\" id=\"cniil_wza\" style=\"float:left;text-decoration:none;color:#000;opacity:.75;padding-right:20px;margin-right:20px;border-right:1px solid #e7e7e7;line-height:14px;position:relative;top:5px\">无障碍</a>  <div class=\"local-weather\" id=\"local-weather\"><div class=\"wea-box\" id=\"cur-weather\" style=\"display:none\"></div>  <div class=\"pos-more\" id=\"detail-weather\" style=\"top:40px;left:-80px\"></div>  </div><span class=\"line\" id=\"user-box-line\" style=\"display:none\"></span><div class=\"user-enter\">  <a href=\"javascript:void(0);\" class=\"enter\" id=\"loginBtn\">登录</a>  </div></div></div><div class=\"content\" id=\"content\"><div class=\"pos-header\" id=\"top-float-bar\"><div class=\"part-one\"></div><div class=\"part-two\" id=\"card-tab-layer\"><div class=\"c-top\" id=\"top-card-tab\"></div></div></div><div class=\"logo2\" id=\"logo-s\"><span></span></div><div class=\"logo\" id=\"logo-l\"><span></span></div> <div class=\"search-box querybox-focus\" id=\"search-box\"><form action=\"/web\" name=\"sf\" id=\"sf\"><span class=\"sec-input-box\"><input type=\"text\" class=\"sec-input active\" name=\"query\" id=\"query\" maxlength=\"100\" len=\"80\" autocomplete=\"off\"></span><span class=\"enter-input\"><input type=\"submit\" value=\"搜狗搜索\" id=\"stb\"></span><input type=\"hidden\" name=\"_asf\" value=\"www.sogou.com\"> <input type=\"hidden\" name=\"_ast\"> <input type=\"hidden\" name=\"w\" value=\"01019900\"> <input type=\"hidden\" name=\"p\" value=\"40040100\"> <input type=\"hidden\" name=\"ie\" value=\"utf8\">  <input type=\"hidden\" name=\"from\" value=\"index-nologin\">  <input type=\"hidden\" name=\"s_from\" value=\"index\"><div class=\"keywords-tips\" id=\"keywordsTips\" style=\"display:none\"><i></i><p>“<strong id=\"keywordsTipsStrong\">369</strong>”后面的文字被忽略，搜狗的查询限制在40个汉字以内。</p></div></form></div>  </div><div class=\"card-box\" id=\"card-box\" style=\"display:none\"><div class=\"card-box2\" id=\"card-box2\"><div class=\"c-top\" id=\"card-tab-box\"><a href=\"javascript:void(0);\" uigs-id=\"settings_close-card\" id=\"close-card\" class=\"shezhi\"></a></div><div class=\"c-main\" id=\"card-content\"></div></div></div><div class=\"loog-more\" id=\"scroll-more\" style=\"display:none\"><a href=\"javascript:void(0);\" uigs-id=\"scroll-more\">滚动查看更多<br><span class=\"ico_san\"></span></a></div><div class=\"ft\" id=\"footer\"  style=\"display:none\" ><a href=\"http://b.sogou.com/\" target=\"_blank\" uigs-id=\"footer_tuiguang\">企业推广</a><span class=\"line\"></span><a href=\"http://www.sogou.com/docs/terms.htm?v=1\" target=\"_blank\" uigs-id=\"footer_disclaimer\">免责声明</a><span class=\"line\"></span><a href=\"http://fankui.help.sogou.com/index.php/web/web/index/type/4\" target=\"_blank\" uigs-id=\"footer_feedback\">意见反馈及投诉</a><span class=\"line\"></span><a href=\"http://corp.sogou.com/private.html\" target=\"_blank\" uigs-id=\"footer_private\">隐私政策</a><br><span class=\"g\">药品医疗器械网络信息服务备案：（京）网药械信息备字（2021）第00047号</span>&nbsp;/&nbsp;<span class=\"g\">互联网药品信息服务资格证书(非经营性)：(京)-非经营性-2018-0311</span><br>&copy;&nbsp;2004-2022&nbsp;Sogou.com&nbsp;/&nbsp;<a href=\"http://www.12377.cn\" class=\"g\" target=\"_blank\">网上有害信息举报专区</a>&nbsp;/&nbsp;<span class=\"g\">京网文(2019)6117-724号</span>&nbsp;/&nbsp;<a class=\"g\" href=\"https://beian.miit.gov.cn/\" target=\"_blank\">京ICP证050897号</a>&nbsp;/&nbsp;<a class=\"g\" href=\"https://beian.miit.gov.cn/\" target=\"_blank\">京ICP备11001839号-1</a>&nbsp;/&nbsp;<a href=\"http://www.beian.gov.cn/portal/registerSystemInfo?recordcode=11000002000025\" class=\"ba\" target=\"_blank\">京公网安备11000002000025号</a></div>  <div class=\"ft-v1\" id=\"QRcode-footer\" style=\"padding-bottom:28px\"><div class=\"ft-info\"><a uigs-id=\"mid_pinyin\" href=\"http://pinyin.sogou.com/\" target=\"_blank\"><i class=\"i1\"></i>搜狗输入法</a><span class=\"line\"></span><a uigs-id=\"mid_liulanqi\" href=\"http://ie.sogou.com/\" target=\"_blank\"><i class=\"i2\"></i>浏览器</a><span class=\"line\"></span><a uigs-id=\"mid_daohang\" href=\"http://123.sogou.com/\" target=\"_blank\"><i class=\"i3\"></i>网址导航</a><br><a href=\"http://b.sogou.com/\" target=\"_blank\" class=\"g\">企业推广</a>&nbsp;-&nbsp;<a href=\"http://www.sogou.com/docs/terms.htm?v=1\" target=\"_blank\" class=\"g\">免责声明</a>&nbsp;-&nbsp;<a href=\"http://fankui.help.sogou.com/index.php/web/web/index/type/4\" target=\"_blank\" class=\"g\">意见反馈及投诉</a>&nbsp;-&nbsp;<a href=\"http://corp.sogou.com/private.html\" target=\"_blank\" class=\"g\" uigs-id=\"footer_private\">隐私政策</a><br><span class=\"g\">药品医疗器械网络信息服务备案：（京）网药械信息备字（2021）第00047号</span>&nbsp;/&nbsp;<span class=\"g\">互联网药品信息服务资格证书(非经营性)：(京)-非经营性-2018-0311</span><br>&copy;&nbsp;2004-2022&nbsp;Sogou.com&nbsp;/&nbsp;<a href=\"http://www.12377.cn\" class=\"g\" target=\"_blank\">网上有害信息举报专区</a>&nbsp;/&nbsp;<span class=\"g\">京网文(2019)6117-724号</span>&nbsp;/&nbsp;<a class=\"g\" href=\"https://beian.miit.gov.cn/\" target=\"_blank\">京ICP证050897号</a>&nbsp;/&nbsp;<a class=\"g\" href=\"https://beian.miit.gov.cn/\" target=\"_blank\">京ICP备11001839号-1</a>&nbsp;/&nbsp;<a href=\"http://www.beian.gov.cn/portal/registerSystemInfo?recordcode=11000002000025\" class=\"ba\" target=\"_blank\">京公网安备11000002000025号</a></div>  <div class=\"fit-older\"></div>  </div> <div class=\"kuozhan\" id=\"QRcode-box\" style=\"display:none\"><a href=\"javascript:void(0);\" id=\"miniQRcode\"></a><span id=\"QRcode\"></span></div><a href=\"javascript:void(0);\" class=\"back-top\" id=\"back-top\"></a></div> <script>var SugPara, uigs_para, msBrowserName = navigator.userAgent.toLowerCase(),msIsSe = false,msIsMSearch = false, hasDoodle = false, queryinput = document.getElementById('query');</script><script>/*file=static/js/indexjs.js*/function indexjsInit(e,o,n,t,s,u,i){var r={puid:t,cards:s,cards_sw:u,uigs_cookie:\"SUID,sct,SUV\"};function c(){try{window.external.metasearch(\"make_connection\",\"www.google.com.hk\")}catch(e){}}uigs_para={uigs_productid:\"webapp\",type:\"webindex_new\",stype:e?\"login\":\"nologin\",scrnwi:screen.width,scrnhi:screen.height,uigs_pbtag:\"A\",uigs_cookie:\"SUID,sct\",protocol:\"https:\"==location.protocol.toLowerCase()?\"https\":\"http\"},e&&(uigs_para=Object.assign(uigs_para,r)),window.loginCardConfig={},SugPara={queryboxid:\"search-box\",enableSug:!0,sugType:\"web\",domain:\"w.sugg.sogou.com\",productId:\"web\",sugFormName:\"sf\",inputid:\"query\",submitId:\"stb\",suggestRid:\"01015002\",normalRid:\"01019900\",useParent:1,sugglocation:\"index\",showVr:!0,showHotwords:!0,suggAbtestObject:o},/se 2\\.x/i.test(msBrowserName)&&(msIsSe=!0),/metasr/i.test(msBrowserName)&&(msIsMSearch=!0),queryinput&&msIsSe&&msIsMSearch&&(queryinput.addEventListener?(queryinput.addEventListener(\"keypress\",c,!1),queryinput.addEventListener(\"keydown\",c,!1)):queryinput.attachEvent?(queryinput.attachEvent(\"onkeypress\",c),queryinput.attachEvent(\"onkeydown\",c)):(queryinput.onkeypress=c,queryinput.onkeydown=c)),window.m_s_index=function(){var e=document.sf.query,o=Math.round(1e3*((new Date).getTime()+Math.random()));e.focus(),new RegExp(\"kw=([^&]+)\").test(location.search)&&0==e.value.length&&(e.value=decodeURIComponent(RegExp.$1)),document.cookie.indexOf(\"SUV=\")<0&&(document.cookie=\"SUV=\"+o+\";path=/;expires=Sun, 29 July 2026 00:00:00 UTC;domain=\"+function(){var e=document.domain;return e.indexOf(\"sogou.com\")==e.length-9?\".sogou.com\":e.indexOf(\"soso.com\")==e.length-8?\".soso.com\":-1!=e.indexOf(\"sogo.com\")?\".sogo.com\":void 0}()),n&&((new Image).src=\"//pb6.sogou.com/v6\")},window.st=function(e,o,n,t){var s=document.sf.query,u=encodeURIComponent(s.value),i={news:\"http://news.sogou.com/news?ie=utf8&query=\",web:\"web?ie=utf8&query=\",weixin:\"http://weixin.sogou.com/weixin?type=2&ie=utf8&query=\",zhihu:\"http://zhihu.sogou.com/zhihu?ie=utf8&query=\",pic:\"http://pic.sogou.com/pics?ie=utf8&query=\",video:\"https://v.sogou.com/v?ie=utf8&query=\",myingyi:\"https://www.sogou.com/web?m2web=mingyi.sogou.com&ie=utf8&query=\",overseas:\"http://english.sogou.com?b_o_e=1&ie=utf8&fr=pcweb_index_nav&query=\",scholar:\"http://scholar.sogou.com?ie=utf8&fr=common_index_nav&query=\",fanyi:\"http://fanyi.sogou.com/?fr=common_index_nav_pc&ie=utf8&keyword=\",wenwen:\"http://wenwen.sogou.com/s/?ch=websearch&w=\",hanyu:\"https://hanyu.sogou.com/?query=\",science:\"https://baike.sogou.com/kexue/home.htm?query=\"},r=i[n]||e.href;function c(e){return-1<e.indexOf(\"?\")?\"&\":\"?\"}s&&\"\"!==s.value&&([\"hanyu\"].includes(n)?r=r.match(/.*(?=\\?query\\=)/)[0]+{hanyu:{index:\"\",result:\"result\"}}[n].result+\"?query=\"+u:i[n]?r=i[n]+u:0<r.indexOf(\"kw=\")?r=r.replace(new RegExp(\"kw=[^&$]*\"),\"kw=\"+u):r+=c(r)+\"kw=\"+u),o&&(r+=c(r)+\"p=\"+o),t&&0<t.length&&(r+=\"#\"+t),!s||\"\"!=s.value||\"wenwen\"!=n&&\"science\"!=n||(r=e.href),e.href=r},window.cid=function(e,o){var n=document.sf.query,t=encodeURIComponent(n.value);t?\"web2ww\"===o?e.href+=\"s/?cid=web2ww&w=\"+t:\"web2bk\"===o&&(e.href+=\"Search.e?sp=S\"+t+\"&cid=web2bk\"):e.href+=\"?cid=\"+o},window.m_s_index()}indexjsInit(false, {\"suggestHistoryStrategy1\":\"\",\"suggestHistoryStrategy2\":\"0|1|2|3|4|5|6|7|8\",\"suggHistoryAbtest\":\"\"}, true, 'invaliduser', '', '');</script><script src=\"//dlweb.sogoucdn.com/pcsearch/web/index/js/suggbase_b9937f7.js\"></script>  <script src=\"//dlweb.sogoucdn.com/pcsearch/js/common/widget/index_login_b1cc5cb.js\"></script><script src=\"//account.sogou.com/static/api/passport-async.js\"></script>  <script src=\"//dlweb.sogoucdn.com/pcsearch/web/index/js/searchbase_453304b.js\"></script>   <script defer=\"defer\" async type=\"text/javascript\" src=\"//dlweb.sogoucdn.com/barrier_free/pc/wzaV15/aria.js?appid=c4d5562ec7daa12a5a351cbe1a292da1\" charset=\"utf-8\"></script></body></html><!--zly-->\n",
      "爬取结束！\n"
     ]
    }
   ],
   "source": [
    "#需求：爬取搜狗首页\n",
    "import requests\n",
    "#指定url\n",
    "url = 'https://www.sogou.com/'\n",
    "#发起请求\n",
    "#返回响应对象\n",
    "response = requests.get(url = url)\n",
    "#获取响应数据\n",
    "#获取字符串形式的响应数据\n",
    "page_text = response.text\n",
    "print(page_text)\n",
    "#持久化存储\n",
    "with open('./sougou.html', 'w', encoding ='utf-8') as fp:\n",
    "    fp.write(page_text)\n",
    "    print('爬取结束！')"
   ]
  },
  {
   "cell_type": "markdown",
   "id": "0349ec9b-3f04-4f49-8df1-06db8b71e6e0",
   "metadata": {
    "tags": []
   },
   "source": [
    "## 案例\n",
    "\n",
    "- 指定搜索结果页面\n",
    "\n",
    "- 破解百度翻译\n",
    "\n",
    "- 豆瓣电影分类排行榜\n",
    "\n",
    "- 肯德基餐厅查询\n",
    "\n",
    "- 国家药监局相关数据"
   ]
  },
  {
   "cell_type": "markdown",
   "id": "7377ebe9-adfa-47ae-a7f0-0a6feb011e3c",
   "metadata": {
    "tags": []
   },
   "source": [
    "## 指定搜索结果页面\n",
    "\n",
    "### User-Agent伪装\n",
    "\n",
    "UA检测：\n",
    "\n",
    "门户网站的服务器检测对应的请求对应载体身份标识，\n",
    "若检测到载体的身份标识是某一浏览器，则为正常请求，\n",
    "若检测载体的身份标识为非浏览器，则异常，可能拒绝请求。\n",
    "\n",
    "查看方式：\n",
    "\n",
    "`Shift + Ctrl + I`打开浏览器开发者工具，点击网络，选中网站，点击标头，找到User-Agent"
   ]
  },
  {
   "cell_type": "code",
   "execution_count": 11,
   "id": "1ee3fa9b-0990-4de2-a9fd-6787ee73fca4",
   "metadata": {},
   "outputs": [
    {
     "name": "stdin",
     "output_type": "stream",
     "text": [
      "enter a word: 华南农业大学\n"
     ]
    },
    {
     "name": "stdout",
     "output_type": "stream",
     "text": [
      "华南农业大学.html 保存成功！\n"
     ]
    }
   ],
   "source": [
    "#指定搜索结果页面\n",
    "import requests\n",
    "#UA伪装\n",
    "headers = {\n",
    "    'User-Agent' : 'Mozilla/5.0 (Windows NT 10.0; Win64; x64) AppleWebKit/537.36 (KHTML, like Gecko) Chrome/102.0.5005.63 Safari/537.36 Edg/102.0.1245.30'\n",
    "}\n",
    "url = 'https://www.sogou.com/web'\n",
    "#处理url携带的参数：封装到字典中\n",
    "kw = input('enter a word:')\n",
    "param = {\n",
    "    'query' : kw\n",
    "}\n",
    "#对指定url发起请求是携带参数的，且请求过程中处理了参数\n",
    "response = requests.get(url = url, params = param, headers = headers)\n",
    "page_text = response.text\n",
    "filename = kw + '.html'\n",
    "with open(filename, 'w', encoding = 'utf-8') as fp:\n",
    "    fp.write(page_text)\n",
    "print(filename, '保存成功！')"
   ]
  },
  {
   "cell_type": "markdown",
   "id": "ec8d3bdc-ebc5-4652-88d8-9f3db217f13b",
   "metadata": {},
   "source": [
    "## 破解百度翻译\n",
    "\n",
    "刷新页面的一部分\n",
    "\n",
    "### 相关知识\n",
    "\n",
    "- post请求（携带了参数）\n",
    "\n",
    "- 响应数据是一组\n",
    "\n",
    "### 操作\n",
    "\n",
    "1. `Shift + Ctrl + I`打开开发者工具，点击网络，点击Fetch/XHR\n",
    "\n",
    "2. 点击名称，点击负载，找到显示关键词的组\n",
    "\n",
    "3. 返回标头，复制url\n",
    "\n",
    "4. 在标头中找到Content-Type，显示json则为json方法"
   ]
  },
  {
   "cell_type": "code",
   "execution_count": 4,
   "id": "0e1ed7ba-4978-47e0-b669-3350041c35b2",
   "metadata": {},
   "outputs": [
    {
     "name": "stdout",
     "output_type": "stream",
     "text": [
      "enter a word:love\n",
      "over!\n"
     ]
    }
   ],
   "source": [
    "#破解百度翻译\n",
    "import requests\n",
    "import json\n",
    "post_url = 'https://fanyi.baidu.com/sug'\n",
    "#UA伪装\n",
    "headers = {\n",
    "    'User-Agent' : 'Mozilla/5.0 (Windows NT 10.0; Win64; x64) AppleWebKit/537.36 (KHTML, like Gecko) Chrome/102.0.5005.63 Safari/537.36 Edg/102.0.1245.30'\n",
    "}\n",
    "#post请求参数处理（与get相同）\n",
    "word = input('enter a word:')\n",
    "data = {\n",
    "    'kw' : word\n",
    "}\n",
    "#请求发送\n",
    "response = requests.post(url = post_url, data = data, headers = headers)\n",
    "#获取相应数据:json方法返回的是object(响应数据为json类型，才能使用)\n",
    "dic_obj = response.json()\n",
    "#持久化存储\n",
    "filename = word + '.json'\n",
    "fp = open(filename, 'w', encoding = 'utf-8')\n",
    "json.dump(dic_obj, fp = fp, ensure_ascii = False)\n",
    "print('over!')"
   ]
  },
  {
   "cell_type": "markdown",
   "id": "52583cb1",
   "metadata": {},
   "source": [
    "## 豆瓣电影分类排行榜\n",
    "\n",
    "下拉页面会进行部分刷新，如增加电影数量没滚动条位置变化"
   ]
  },
  {
   "cell_type": "code",
   "execution_count": 7,
   "id": "a2da95fe",
   "metadata": {},
   "outputs": [
    {
     "name": "stdout",
     "output_type": "stream",
     "text": [
      "over!\n"
     ]
    }
   ],
   "source": [
    "#豆瓣电影分类排行榜\n",
    "import requests\n",
    "import json\n",
    "url = 'https://movie.douban.com/j/chart/top_list'\n",
    "param = {\n",
    "    'type' : '24',\n",
    "    'interval_id' : '100:90',\n",
    "    'action' : '',\n",
    "    'start' : '0', #从库中第几部电影开始取\n",
    "    'limit' : '20', #单次请求取出的个数\n",
    "}\n",
    "headers = {\n",
    "    'User-Agent' : 'Mozilla/5.0 (Windows NT 10.0; Win64; x64) AppleWebKit/537.36 (KHTML, like Gecko) Chrome/102.0.5005.63 Safari/537.36 Edg/102.0.1245.30'\n",
    "}\n",
    "response = requests.get(url = url, params = param, headers = headers)\n",
    "list_data = response.json()\n",
    "fp = open('./douban.json', 'w', encoding = 'utf-8')\n",
    "json.dump(list_data, fp = fp, ensure_ascii = False)\n",
    "print('over!')"
   ]
  },
  {
   "cell_type": "markdown",
   "id": "56cf8b22",
   "metadata": {},
   "source": [
    "## 作业：肯德基餐厅查询\n",
    "\n",
    "重点：\n",
    "\n",
    "1. 确定网址的url\n",
    "\n",
    "2. 确定post请求还是get请求\n",
    "\n",
    "3. 确定响应数据是text还是json"
   ]
  },
  {
   "cell_type": "code",
   "execution_count": 25,
   "id": "7794a0b1",
   "metadata": {},
   "outputs": [
    {
     "name": "stdout",
     "output_type": "stream",
     "text": [
      "enter a city:武汉\n",
      "武汉.html 保存成功！\n"
     ]
    }
   ],
   "source": [
    "#作业：肯德基餐厅查询\n",
    "import requests\n",
    "url = 'https://www.kfc.com.cn/kfccda/ashx/GetStoreList.ashx?op=keyword'\n",
    "word = input('enter a city:')\n",
    "data = {\n",
    "    'cname' : '',\n",
    "    'pid' : '',\n",
    "    'keyword' : word,\n",
    "    'pageIndex' : '1',\n",
    "    'pageSize' : '10',\n",
    "}\n",
    "headers = {\n",
    "    'User-Agent' : 'Mozilla/5.0 (Windows NT 10.0; Win64; x64) AppleWebKit/537.36 (KHTML, like Gecko) Chrome/102.0.5005.63 Safari/537.36 Edg/102.0.1245.30'\n",
    "}\n",
    "response = requests.post(url = url, data = data, headers = headers)\n",
    "page_text = response.text\n",
    "filename = word + '.html'\n",
    "with open(filename, 'w', encoding = 'utf-8') as fp:\n",
    "    fp.write(page_text)\n",
    "print(filename, '保存成功！')"
   ]
  },
  {
   "cell_type": "markdown",
   "id": "b81e4e4b",
   "metadata": {},
   "source": [
    "## 国家药监局基于化妆品生产许可证相关数据\n",
    "\n",
    "网址：[化妆品生产许可信息管理平台](http://scxk.nmpa.gov.cn:81/xk/)\n",
    "\n",
    "需求：需要爬取企业的具体信息，非主业列表\n",
    "\n",
    "并不一定能直接从地址栏中请求得到\n",
    "\n",
    "可能是**动态加载**出来的数据\n",
    "\n",
    "对应企业的数据是通过ajax动态请求得到的"
   ]
  },
  {
   "cell_type": "code",
   "execution_count": null,
   "id": "eabcb485",
   "metadata": {},
   "outputs": [],
   "source": [
    "#国家药监局基于化妆品生产许可证相关数据\n",
    "import requests\n",
    "import json\n",
    "url = 'http://scxk.nmpa.gov.cn:81/xk/itownet/portalAction.do'\n"
   ]
  }
 ],
 "metadata": {
  "kernelspec": {
   "display_name": "Python 3 (ipykernel)",
   "language": "python",
   "name": "python3"
  },
  "language_info": {
   "codemirror_mode": {
    "name": "ipython",
    "version": 3
   },
   "file_extension": ".py",
   "mimetype": "text/x-python",
   "name": "python",
   "nbconvert_exporter": "python",
   "pygments_lexer": "ipython3",
   "version": "3.9.7"
  }
 },
 "nbformat": 4,
 "nbformat_minor": 5
}
