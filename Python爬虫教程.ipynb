{
 "cells": [
  {
   "cell_type": "markdown",
   "id": "05902167-2c12-4e7b-9811-505af3f77e8c",
   "metadata": {
    "tags": []
   },
   "source": [
    "# Python爬虫教程\n",
    "\n",
    "课程来源：[Python超强爬虫8天速成（完整版）爬取各种网站数据实战案例](https://www.bilibili.com/video/BV1ha4y1H7sx?p=1&vd_source=cf36c3cbebd2c2649e023b592f888efe)\n",
    "\n",
    "## 使用场景\n",
    "\n",
    "通用爬虫：抓取系统的组成部分，抓取一张页面数据\n",
    "\n",
    "聚焦爬虫：在通用的基础上，抓取特定内容\n",
    "\n",
    "增量式爬虫：检测网站中数据更新"
   ]
  },
  {
   "cell_type": "markdown",
   "id": "8ffbfde9-d1a3-4794-a671-ecd6c58bac85",
   "metadata": {
    "tags": []
   },
   "source": [
    "## http协议\n",
    "服务器与客户端进行数据交互的一种形式\n",
    "\n",
    "常用请求头信息\n",
    "\n",
    "- User-Agent：请求载体的身份标识\n",
    "\n",
    "- Connection：请求完毕后，是断开连接还是保持\n",
    "\n",
    "常用响应头协议\n",
    "- Content-Type：服务器响应客户端的数据类型\n",
    "\n",
    "## https协议\n",
    "\n",
    "- 安全的超文本协议\n",
    "\n",
    "加密方式\n",
    "\n",
    "- 对称密钥加密\n",
    "\n",
    "- 非对称密钥加密\n",
    "\n",
    "- 证书密钥加密"
   ]
  },
  {
   "cell_type": "markdown",
   "id": "c2e695c4",
   "metadata": {},
   "source": [
    "---"
   ]
  },
  {
   "cell_type": "markdown",
   "id": "f21161a0-41b6-42ae-8d51-fd9a6eca5076",
   "metadata": {},
   "source": [
    "## requests模块\n",
    "\n",
    "作用：模拟浏览器发送请求\n",
    "\n",
    "如何使用：\n",
    "\n",
    "- 指定url\n",
    "\n",
    "- 发起请求\n",
    "\n",
    "- 获取响应数据\n",
    "\n",
    "- 持久化存储"
   ]
  },
  {
   "cell_type": "code",
   "execution_count": 1,
   "id": "2b0b19ed-7588-4cf1-9573-af2a5f3b7569",
   "metadata": {
    "scrolled": true
   },
   "outputs": [
    {
     "name": "stdout",
     "output_type": "stream",
     "text": [
      "<!DOCTYPE html><html lang=\"cn\"><head><meta name=\"viewport\" content=\"width=device-width,minimum-scale=1,maximum-scale=1,user-scalable=no\"><script>window._speedMark = new Date();  window.lead_ip = '223.73.20.142';\n",
      "    window.now = 1656988302196;</script><script type=\"text/javascript\">/*file=static/js/resourceErrorReport.js*/!function(a){var n=(new Date).getTime(),r=a.location.protocol;function c(e,t){var o=(new Date).getTime()-n;(new Image).src=[\"//pb.sogou.com/pv.gif?uigs_productid=wapapp&type=resource-error&stype=\",e,\"&timestamp=\",o,\"&protocol=\",r,\"&host=\",encodeURIComponent(a.location.host),\"&path=\",encodeURIComponent(a.location.pathname),\"&resource=\",encodeURIComponent(t)].join(\"\")}function e(e){if((e=e||a.event)&&\"error\"===e.type){var t=e.srcElement?e.srcElement:e.target;if(t){var o,n,r=t.tagName;\"LINK\"===r?(n=\"css\",(o=t.getAttribute(\"href\"))&&o.match(/\\.css($|\\?)/)&&c(n,o)):\"SCRIPT\"===r&&(n=\"js\",(o=t.getAttribute(\"src\"))&&o.match(/\\.js($|\\?)/)&&c(n,o))}}}r&&(r=r.substring(0,r.length-1)),a.addEventListener?a.addEventListener(\"error\",e,!0):a.attachEvent&&a.attachEvent(\"onerror\",e)}(window);</script><meta charset=\"utf-8\"><link rel=\"dns-prefetch\" href=\"//img01.sogoucdn.com\"><link rel=\"dns-prefetch\" href=\"//img02.sogoucdn.com\"><link rel=\"dns-prefetch\" href=\"//img03.sogoucdn.com\"><link rel=\"dns-prefetch\" href=\"//img04.sogoucdn.com\"><link rel=\"dns-prefetch\" href=\"//dlweb.sogoucdn.com\"><title>搜狗搜索引擎 - 上网从搜狗开始</title><link rel=\"shortcut icon\" href=\"/images/logo/new/favicon.ico?v=4\" type=\"image/x-icon\"><meta http-equiv=\"X-UA-Compatible\" content=\"IE=Edge\"><link rel=\"search\" type=\"application/opensearchdescription+xml\" href=\"/content-search.xml\" title=\"搜狗搜索\"><meta name=\"keywords\" content=\"搜狗搜索,网页搜索,微信搜索,视频搜索,图片搜索,音乐搜索,新闻搜索,软件搜索,问答搜索,百科搜索,购物搜索\"><meta name=\"description\" content=\"搜狗搜索是全球第三代互动式搜索引擎，支持微信公众号和文章搜索、知乎搜索、英文搜索及翻译等，通过自主研发的人工智能算法为用户提供专业、精准、便捷的搜索服务。\"><link rel=\"stylesheet\" type=\"text/css\" href=\"//dlweb.sogoucdn.com/pcsearch/web/index/css/index_style_39e6e10.css\"><style>.wrapper .suggestion{border:1px solid #e8e8e8;width:653px;-moz-box-shadow:0 1px 8px rgba(0,0,0,.1);-webkit-box-shadow:0 1px 8px rgba(0,0,0,.1);box-shadow:0 1px 8px rgba(0,0,0,.1);border-top-left-radius:0;border-top-right-radius:0;border-bottom-right-radius:2px;border-bottom-left-radius:2px;top:43px}.wrapper .suglist{width:206px}.wrapper .suglist .keyword{color:#7a77c8}.big-scn .suggestion{width:820px}.big-scn .suglist{width:236px}.wrapper .suglist{padding:4px 0}input[type=text]::-ms-clear{display:none}</style><!-- indexSnippetToHeader start -->  <!-- indexSnippetToHeader end --></head><body color-style=\"white\"><div class=\"wrapper \" id=\"wrap\"><div class=\"header\"> <div class=\"top-nav\"><ul><li class=\"cur\"><span>网页</span></li><li><a onclick=\"st(this,'73141200','weixin')\" href=\"http://weixin.sogou.com/\" uigs-id=\"nav_weixin\" id=\"weixinch\">微信</a></li><li><a onclick=\"st(this,'40051200','zhihu')\" href=\"http://zhihu.sogou.com/\" uigs-id=\"nav_zhihu\" id=\"zhihu\">知乎</a></li><li><a onclick=\"st(this,'40030500','pic')\" href=\"http://pic.sogou.com\" uigs-id=\"nav_pic\" id=\"pic\">图片</a></li><li><a onclick=\"st(this,'40030600','video')\" href=\"https://v.sogou.com/\" uigs-id=\"nav_v\" id=\"video\">视频</a></li><li><a href=\"http://mingyi.sogou.com?fr=common_index_nav\" uigs-id=\"nav_mingyi\" id=\"mingyi\" onclick=\"st(this,'','myingyi')\">医疗</a></li><li><a href=\"http://hanyu.sogou.com?fr=pcweb_index_nav\" uigs-id=\"nav_hanyu\" id=\"hanyu\" onclick=\"st(this,'','hanyu')\">汉语</a></li><li><a href=\"http://fanyi.sogou.com?fr=common_index_nav_pc\" uigs-id=\"nav_fanyi\" id=\"fanyi\" onclick=\"st(this,'','fanyi')\">翻译</a></li><li><a onclick=\"st(this,'web2ww','wenwen')\" href=\"https://wenwen.sogou.com/?ch=websearch\" uigs-id=\"nav_wenwen\" id=\"index_more_wenwen\">问问</a></li><li><a onclick=\"st(this,'web2ww','baike')\" href=\"http://baike.sogou.com/Home.v\" uigs-id=\"nav_baike\" id=\"index_baike\">百科</a></li><li><a onclick=\"st(this,'40031000')\" href=\"http://map.sogou.com\" uigs-id=\"nav_map\" id=\"map\">地图</a></li><li class=\"show-more\"><a href=\"javascript:void(0);\" id=\"more-product\">更多<i class=\"m-arr\"></i></a><div class=\"pos-more\" id=\"products-box\" style=\"top:40px\"><span class=\"ico-san\"></span><a onclick=\"st(this,'40031500')\" href=\"http://gouwu.sogou.com/\" uigs-id=\"nav_gouwu\" id=\"index_more_gouwu\">购物</a><a onclick=\"st(this)\" href=\"http://zhishi.sogou.com\" uigs-id=\"nav_zhishi\" id=\"index_more_zhishi\">知识</a><a onclick=\"st(this,'40051205')\" href=\"http://as.sogou.com/\" uigs-id=\"nav_app\" id=\"index_more_appli\">应用</a><a href=\"https://baike.sogou.com/kexue/home.htm\" uigs-id=\"nav_science\" id=\"science\">科学</a><span class=\"all\"><a onclick=\"st(this,'40051206')\" href=\"http://www.sogou.com/docs/more.htm?v=1\" uigs-id=\"nav_all\" target=\"_blank\">全部</a></span></div></li></ul></div><div class=\"user-box\">  <a href=\"javascript:void(0)\" id=\"cniil_wza\" style=\"float:left;text-decoration:none;color:#000;opacity:.75;padding-right:20px;margin-right:20px;border-right:1px solid #e7e7e7;line-height:14px;position:relative;top:5px\">无障碍</a>  <div class=\"local-weather\" id=\"local-weather\"><div class=\"wea-box\" id=\"cur-weather\" style=\"display:none\"></div>  <div class=\"pos-more\" id=\"detail-weather\" style=\"top:40px;left:-80px\"></div>  </div><span class=\"line\" id=\"user-box-line\" style=\"display:none\"></span><div class=\"user-enter\">  <a href=\"javascript:void(0);\" class=\"enter\" id=\"loginBtn\">登录</a>  </div></div></div><div class=\"content\" id=\"content\"><div class=\"pos-header\" id=\"top-float-bar\"><div class=\"part-one\"></div><div class=\"part-two\" id=\"card-tab-layer\"><div class=\"c-top\" id=\"top-card-tab\"></div></div></div><div class=\"logo2\" id=\"logo-s\"><span></span></div><div class=\"logo\" id=\"logo-l\"><span></span></div> <div class=\"search-box querybox-focus\" id=\"search-box\"><form action=\"/web\" name=\"sf\" id=\"sf\"><span class=\"sec-input-box\"><input type=\"text\" class=\"sec-input active\" name=\"query\" id=\"query\" maxlength=\"100\" len=\"80\" autocomplete=\"off\"></span><span class=\"enter-input\"><input type=\"submit\" value=\"搜狗搜索\" id=\"stb\"></span><input type=\"hidden\" name=\"_asf\" value=\"www.sogou.com\"> <input type=\"hidden\" name=\"_ast\"> <input type=\"hidden\" name=\"w\" value=\"01019900\"> <input type=\"hidden\" name=\"p\" value=\"40040100\"> <input type=\"hidden\" name=\"ie\" value=\"utf8\">  <input type=\"hidden\" name=\"from\" value=\"index-nologin\">  <input type=\"hidden\" name=\"s_from\" value=\"index\"><div class=\"keywords-tips\" id=\"keywordsTips\" style=\"display:none\"><i></i><p>“<strong id=\"keywordsTipsStrong\">369</strong>”后面的文字被忽略，搜狗的查询限制在40个汉字以内。</p></div></form></div>  </div><div class=\"card-box\" id=\"card-box\" style=\"display:none\"><div class=\"card-box2\" id=\"card-box2\"><div class=\"c-top\" id=\"card-tab-box\"><a href=\"javascript:void(0);\" uigs-id=\"settings_close-card\" id=\"close-card\" class=\"shezhi\"></a></div><div class=\"c-main\" id=\"card-content\"></div></div></div><div class=\"loog-more\" id=\"scroll-more\" style=\"display:none\"><a href=\"javascript:void(0);\" uigs-id=\"scroll-more\">滚动查看更多<br><span class=\"ico_san\"></span></a></div><div class=\"ft\" id=\"footer\"  style=\"display:none\" ><a href=\"http://b.sogou.com/\" target=\"_blank\" uigs-id=\"footer_tuiguang\">企业推广</a><span class=\"line\"></span><a href=\"http://www.sogou.com/docs/terms.htm?v=1\" target=\"_blank\" uigs-id=\"footer_disclaimer\">免责声明</a><span class=\"line\"></span><a href=\"http://fankui.help.sogou.com/index.php/web/web/index/type/4\" target=\"_blank\" uigs-id=\"footer_feedback\">意见反馈及投诉</a><span class=\"line\"></span><a href=\"http://corp.sogou.com/private.html\" target=\"_blank\" uigs-id=\"footer_private\">隐私政策</a><br><span class=\"g\">药品医疗器械网络信息服务备案：（京）网药械信息备字（2021）第00047号</span>&nbsp;/&nbsp;<span class=\"g\">互联网药品信息服务资格证书(非经营性)：(京)-非经营性-2018-0311</span><br>&copy;&nbsp;2004-2022&nbsp;Sogou.com&nbsp;/&nbsp;<a href=\"http://www.12377.cn\" class=\"g\" target=\"_blank\">网上有害信息举报专区</a>&nbsp;/&nbsp;<span class=\"g\">京网文(2019)6117-724号</span>&nbsp;/&nbsp;<a class=\"g\" href=\"https://beian.miit.gov.cn/\" target=\"_blank\">京ICP证050897号</a>&nbsp;/&nbsp;<a class=\"g\" href=\"https://beian.miit.gov.cn/\" target=\"_blank\">京ICP备11001839号-1</a>&nbsp;/&nbsp;<a href=\"http://www.beian.gov.cn/portal/registerSystemInfo?recordcode=11000002000025\" class=\"ba\" target=\"_blank\">京公网安备11000002000025号</a></div>  <div class=\"ft-v1\" id=\"QRcode-footer\" style=\"padding-bottom:28px\"><div class=\"ft-info\"><a uigs-id=\"mid_pinyin\" href=\"http://pinyin.sogou.com/\" target=\"_blank\"><i class=\"i1\"></i>搜狗输入法</a><span class=\"line\"></span><a uigs-id=\"mid_liulanqi\" href=\"http://ie.sogou.com/\" target=\"_blank\"><i class=\"i2\"></i>浏览器</a><span class=\"line\"></span><a uigs-id=\"mid_daohang\" href=\"http://123.sogou.com/\" target=\"_blank\"><i class=\"i3\"></i>网址导航</a><br><a href=\"http://b.sogou.com/\" target=\"_blank\" class=\"g\">企业推广</a>&nbsp;-&nbsp;<a href=\"http://www.sogou.com/docs/terms.htm?v=1\" target=\"_blank\" class=\"g\">免责声明</a>&nbsp;-&nbsp;<a href=\"http://fankui.help.sogou.com/index.php/web/web/index/type/4\" target=\"_blank\" class=\"g\">意见反馈及投诉</a>&nbsp;-&nbsp;<a href=\"http://corp.sogou.com/private.html\" target=\"_blank\" class=\"g\" uigs-id=\"footer_private\">隐私政策</a><br><span class=\"g\">药品医疗器械网络信息服务备案：（京）网药械信息备字（2021）第00047号</span>&nbsp;/&nbsp;<span class=\"g\">互联网药品信息服务资格证书(非经营性)：(京)-非经营性-2018-0311</span><br>&copy;&nbsp;2004-2022&nbsp;Sogou.com&nbsp;/&nbsp;<a href=\"http://www.12377.cn\" class=\"g\" target=\"_blank\">网上有害信息举报专区</a>&nbsp;/&nbsp;<span class=\"g\">京网文(2019)6117-724号</span>&nbsp;/&nbsp;<a class=\"g\" href=\"https://beian.miit.gov.cn/\" target=\"_blank\">京ICP证050897号</a>&nbsp;/&nbsp;<a class=\"g\" href=\"https://beian.miit.gov.cn/\" target=\"_blank\">京ICP备11001839号-1</a>&nbsp;/&nbsp;<a href=\"http://www.beian.gov.cn/portal/registerSystemInfo?recordcode=11000002000025\" class=\"ba\" target=\"_blank\">京公网安备11000002000025号</a></div>  <div class=\"fit-older\"></div>  </div> <div class=\"kuozhan\" id=\"QRcode-box\" style=\"display:none\"><a href=\"javascript:void(0);\" id=\"miniQRcode\"></a><span id=\"QRcode\"></span></div><a href=\"javascript:void(0);\" class=\"back-top\" id=\"back-top\"></a></div> <script>var SugPara, uigs_para, msBrowserName = navigator.userAgent.toLowerCase(),msIsSe = false,msIsMSearch = false, hasDoodle = false, queryinput = document.getElementById('query');</script><script>/*file=static/js/indexjs.js*/function indexjsInit(e,o,n,t,s,u,i){var r={puid:t,cards:s,cards_sw:u,uigs_cookie:\"SUID,sct,SUV\"};function c(){try{window.external.metasearch(\"make_connection\",\"www.google.com.hk\")}catch(e){}}uigs_para={uigs_productid:\"webapp\",type:\"webindex_new\",stype:e?\"login\":\"nologin\",scrnwi:screen.width,scrnhi:screen.height,uigs_pbtag:\"A\",uigs_cookie:\"SUID,sct\",protocol:\"https:\"==location.protocol.toLowerCase()?\"https\":\"http\"},e&&(uigs_para=Object.assign(uigs_para,r)),window.loginCardConfig={},SugPara={queryboxid:\"search-box\",enableSug:!0,sugType:\"web\",domain:\"w.sugg.sogou.com\",productId:\"web\",sugFormName:\"sf\",inputid:\"query\",submitId:\"stb\",suggestRid:\"01015002\",normalRid:\"01019900\",useParent:1,sugglocation:\"index\",showVr:!0,showHotwords:!0,suggAbtestObject:o},/se 2\\.x/i.test(msBrowserName)&&(msIsSe=!0),/metasr/i.test(msBrowserName)&&(msIsMSearch=!0),queryinput&&msIsSe&&msIsMSearch&&(queryinput.addEventListener?(queryinput.addEventListener(\"keypress\",c,!1),queryinput.addEventListener(\"keydown\",c,!1)):queryinput.attachEvent?(queryinput.attachEvent(\"onkeypress\",c),queryinput.attachEvent(\"onkeydown\",c)):(queryinput.onkeypress=c,queryinput.onkeydown=c)),window.m_s_index=function(){var e=document.sf.query,o=Math.round(1e3*((new Date).getTime()+Math.random()));e.focus(),new RegExp(\"kw=([^&]+)\").test(location.search)&&0==e.value.length&&(e.value=decodeURIComponent(RegExp.$1)),document.cookie.indexOf(\"SUV=\")<0&&(document.cookie=\"SUV=\"+o+\";path=/;expires=Sun, 29 July 2026 00:00:00 UTC;domain=\"+function(){var e=document.domain;return e.indexOf(\"sogou.com\")==e.length-9?\".sogou.com\":e.indexOf(\"soso.com\")==e.length-8?\".soso.com\":-1!=e.indexOf(\"sogo.com\")?\".sogo.com\":void 0}()),n&&((new Image).src=\"//pb6.sogou.com/v6\")},window.st=function(e,o,n,t){var s=document.sf.query,u=encodeURIComponent(s.value),i={news:\"http://news.sogou.com/news?ie=utf8&query=\",web:\"web?ie=utf8&query=\",weixin:\"http://weixin.sogou.com/weixin?type=2&ie=utf8&query=\",zhihu:\"http://zhihu.sogou.com/zhihu?ie=utf8&query=\",pic:\"http://pic.sogou.com/pics?ie=utf8&query=\",video:\"https://v.sogou.com/v?ie=utf8&query=\",myingyi:\"https://www.sogou.com/web?m2web=mingyi.sogou.com&ie=utf8&query=\",overseas:\"http://english.sogou.com?b_o_e=1&ie=utf8&fr=pcweb_index_nav&query=\",scholar:\"http://scholar.sogou.com?ie=utf8&fr=common_index_nav&query=\",fanyi:\"http://fanyi.sogou.com/?fr=common_index_nav_pc&ie=utf8&keyword=\",wenwen:\"http://wenwen.sogou.com/s/?ch=websearch&w=\",hanyu:\"https://hanyu.sogou.com/?query=\",science:\"https://baike.sogou.com/kexue/home.htm?query=\"},r=i[n]||e.href;function c(e){return-1<e.indexOf(\"?\")?\"&\":\"?\"}s&&\"\"!==s.value&&([\"hanyu\"].includes(n)?r=r.match(/.*(?=\\?query\\=)/)[0]+{hanyu:{index:\"\",result:\"result\"}}[n].result+\"?query=\"+u:i[n]?r=i[n]+u:0<r.indexOf(\"kw=\")?r=r.replace(new RegExp(\"kw=[^&$]*\"),\"kw=\"+u):r+=c(r)+\"kw=\"+u),o&&(r+=c(r)+\"p=\"+o),t&&0<t.length&&(r+=\"#\"+t),!s||\"\"!=s.value||\"wenwen\"!=n&&\"science\"!=n||(r=e.href),e.href=r},window.cid=function(e,o){var n=document.sf.query,t=encodeURIComponent(n.value);t?\"web2ww\"===o?e.href+=\"s/?cid=web2ww&w=\"+t:\"web2bk\"===o&&(e.href+=\"Search.e?sp=S\"+t+\"&cid=web2bk\"):e.href+=\"?cid=\"+o},window.m_s_index()}indexjsInit(false, {\"suggestHistoryStrategy1\":\"\",\"suggestHistoryStrategy2\":\"0|1|2|3|4|5|6|7|8\",\"suggHistoryAbtest\":\"\"}, true, 'invaliduser', '', '');</script><script src=\"//dlweb.sogoucdn.com/pcsearch/web/index/js/suggbase_d6fdc37.js\"></script>  <script src=\"//dlweb.sogoucdn.com/pcsearch/js/common/widget/index_login_b1cc5cb.js\"></script><script src=\"//account.sogou.com/static/api/passport-async.js\"></script>  <script src=\"//dlweb.sogoucdn.com/pcsearch/web/index/js/searchbase_453304b.js\"></script>   <script defer=\"defer\" async type=\"text/javascript\" src=\"//dlweb.sogoucdn.com/barrier_free/pc/wzaV15/aria.js?appid=c4d5562ec7daa12a5a351cbe1a292da1\" charset=\"utf-8\"></script></body></html><!--zly-->\n",
      "爬取结束！\n"
     ]
    }
   ],
   "source": [
    "#需求：爬取搜狗首页\n",
    "import requests\n",
    "#指定url\n",
    "url = 'https://www.sogou.com/'\n",
    "#发起请求\n",
    "#返回响应对象\n",
    "response = requests.get(url = url)\n",
    "#获取响应数据\n",
    "#获取字符串形式的响应数据\n",
    "page_text = response.text\n",
    "print(page_text)\n",
    "#持久化存储\n",
    "with open('./sougou.html', 'w', encoding ='utf-8') as fp:\n",
    "    fp.write(page_text)\n",
    "    print('爬取结束！')"
   ]
  },
  {
   "cell_type": "markdown",
   "id": "0349ec9b-3f04-4f49-8df1-06db8b71e6e0",
   "metadata": {
    "tags": []
   },
   "source": [
    "## 案例\n",
    "\n",
    "- 指定搜索结果页面\n",
    "\n",
    "- 破解百度翻译\n",
    "\n",
    "- 豆瓣电影分类排行榜\n",
    "\n",
    "- 肯德基餐厅查询\n",
    "\n",
    "- 国家药监局相关数据"
   ]
  },
  {
   "cell_type": "markdown",
   "id": "7377ebe9-adfa-47ae-a7f0-0a6feb011e3c",
   "metadata": {
    "tags": []
   },
   "source": [
    "## 指定搜索结果页面\n",
    "\n",
    "### User-Agent伪装\n",
    "\n",
    "UA检测：\n",
    "\n",
    "门户网站的服务器检测对应的请求对应载体身份标识，\n",
    "若检测到载体的身份标识是某一浏览器，则为正常请求，\n",
    "若检测载体的身份标识为非浏览器，则异常，可能拒绝请求。\n",
    "\n",
    "查看方式：\n",
    "\n",
    "`Shift + Ctrl + I`打开浏览器开发者工具，点击网络，选中网站，点击标头，找到User-Agent"
   ]
  },
  {
   "cell_type": "code",
   "execution_count": 2,
   "id": "1ee3fa9b-0990-4de2-a9fd-6787ee73fca4",
   "metadata": {
    "scrolled": true
   },
   "outputs": [
    {
     "name": "stdout",
     "output_type": "stream",
     "text": [
      "enter a word:吉吉\n",
      "吉吉.html 保存成功！\n"
     ]
    }
   ],
   "source": [
    "#指定搜索结果页面\n",
    "import requests\n",
    "#UA伪装\n",
    "headers = {\n",
    "    'User-Agent' : 'Mozilla/5.0 (Windows NT 10.0; Win64; x64) AppleWebKit/537.36 (KHTML, like Gecko) Chrome/102.0.5005.63 Safari/537.36 Edg/102.0.1245.30'\n",
    "}\n",
    "url = 'https://www.sogou.com/web'\n",
    "#处理url携带的参数：封装到字典中\n",
    "kw = input('enter a word:')\n",
    "param = {\n",
    "    'query' : kw\n",
    "}\n",
    "#对指定url发起请求是携带参数的，且请求过程中处理了参数\n",
    "response = requests.get(url = url, params = param, headers = headers)\n",
    "page_text = response.text\n",
    "filename = kw + '.html'\n",
    "with open(filename, 'w', encoding = 'utf-8') as fp:\n",
    "    fp.write(page_text)\n",
    "print(filename, '保存成功！')"
   ]
  },
  {
   "cell_type": "markdown",
   "id": "ec8d3bdc-ebc5-4652-88d8-9f3db217f13b",
   "metadata": {},
   "source": [
    "## 破解百度翻译\n",
    "\n",
    "刷新页面的一部分\n",
    "\n",
    "### 相关知识\n",
    "\n",
    "- post请求（携带了参数）\n",
    "\n",
    "- 响应数据是一组\n",
    "\n",
    "### 操作\n",
    "\n",
    "1. `Shift + Ctrl + I`打开开发者工具，点击网络，点击Fetch/XHR\n",
    "\n",
    "2. 点击名称，点击负载，找到显示关键词的组\n",
    "\n",
    "3. 返回标头，复制url\n",
    "\n",
    "4. 在标头中找到Content-Type，显示json则为json方法"
   ]
  },
  {
   "cell_type": "code",
   "execution_count": 3,
   "id": "0e1ed7ba-4978-47e0-b669-3350041c35b2",
   "metadata": {
    "scrolled": true
   },
   "outputs": [
    {
     "name": "stdout",
     "output_type": "stream",
     "text": [
      "enter a word:武汉\n",
      "over!\n"
     ]
    }
   ],
   "source": [
    "#破解百度翻译\n",
    "import requests\n",
    "import json\n",
    "post_url = 'https://fanyi.baidu.com/sug'\n",
    "#UA伪装\n",
    "headers = {\n",
    "    'User-Agent' : 'Mozilla/5.0 (Windows NT 10.0; Win64; x64) AppleWebKit/537.36 (KHTML, like Gecko) Chrome/102.0.5005.63 Safari/537.36 Edg/102.0.1245.30'\n",
    "}\n",
    "#post请求参数处理（与get相同）\n",
    "word = input('enter a word:')\n",
    "data = {\n",
    "    'kw' : word\n",
    "}\n",
    "#请求发送\n",
    "response = requests.post(url = post_url, data = data, headers = headers)\n",
    "#获取相应数据:json方法返回的是object(响应数据为json类型，才能使用)\n",
    "dic_obj = response.json()\n",
    "#持久化存储\n",
    "filename = word + '.json'\n",
    "fp = open(filename, 'w', encoding = 'utf-8')\n",
    "json.dump(dic_obj, fp = fp, ensure_ascii = False)\n",
    "print('over!')"
   ]
  },
  {
   "cell_type": "markdown",
   "id": "52583cb1",
   "metadata": {},
   "source": [
    "## 豆瓣电影分类排行榜\n",
    "\n",
    "下拉页面会进行部分刷新，如增加电影数量没滚动条位置变化"
   ]
  },
  {
   "cell_type": "code",
   "execution_count": 4,
   "id": "a2da95fe",
   "metadata": {
    "scrolled": true
   },
   "outputs": [
    {
     "name": "stdout",
     "output_type": "stream",
     "text": [
      "over!\n"
     ]
    }
   ],
   "source": [
    "#豆瓣电影分类排行榜\n",
    "import requests\n",
    "import json\n",
    "url = 'https://movie.douban.com/j/chart/top_list'\n",
    "param = {\n",
    "    'type' : '24',\n",
    "    'interval_id' : '100:90',\n",
    "    'action' : '',\n",
    "    'start' : '0', #从库中第几部电影开始取\n",
    "    'limit' : '20', #单次请求取出的个数\n",
    "}\n",
    "headers = {\n",
    "    'User-Agent' : 'Mozilla/5.0 (Windows NT 10.0; Win64; x64) AppleWebKit/537.36 (KHTML, like Gecko) Chrome/102.0.5005.63 Safari/537.36 Edg/102.0.1245.30'\n",
    "}\n",
    "response = requests.get(url = url, params = param, headers = headers)\n",
    "list_data = response.json()\n",
    "fp = open('./douban.json', 'w', encoding = 'utf-8')\n",
    "json.dump(list_data, fp = fp, ensure_ascii = False)\n",
    "print('over!')"
   ]
  },
  {
   "cell_type": "markdown",
   "id": "56cf8b22",
   "metadata": {},
   "source": [
    "## 作业：肯德基餐厅查询\n",
    "\n",
    "重点：\n",
    "\n",
    "1. 确定网址的url\n",
    "\n",
    "2. 确定post请求还是get请求\n",
    "\n",
    "3. 确定响应数据是text还是json"
   ]
  },
  {
   "cell_type": "code",
   "execution_count": 5,
   "id": "7794a0b1",
   "metadata": {
    "scrolled": true
   },
   "outputs": [
    {
     "name": "stdout",
     "output_type": "stream",
     "text": [
      "enter a city:广州\n",
      "广州.html 保存成功！\n"
     ]
    }
   ],
   "source": [
    "#作业：肯德基餐厅查询\n",
    "import requests\n",
    "url = 'https://www.kfc.com.cn/kfccda/ashx/GetStoreList.ashx?op=keyword'\n",
    "word = input('enter a city:')\n",
    "data = {\n",
    "    'cname' : '',\n",
    "    'pid' : '',\n",
    "    'keyword' : word,\n",
    "    'pageIndex' : '1',\n",
    "    'pageSize' : '10',\n",
    "}\n",
    "headers = {\n",
    "    'User-Agent' : 'Mozilla/5.0 (Windows NT 10.0; Win64; x64) AppleWebKit/537.36 (KHTML, like Gecko) Chrome/102.0.5005.63 Safari/537.36 Edg/102.0.1245.30'\n",
    "}\n",
    "response = requests.post(url = url, data = data, headers = headers)\n",
    "page_text = response.text\n",
    "filename = word + '.html'\n",
    "with open(filename, 'w', encoding = 'utf-8') as fp:\n",
    "    fp.write(page_text)\n",
    "print(filename, '保存成功！')"
   ]
  },
  {
   "cell_type": "markdown",
   "id": "b81e4e4b",
   "metadata": {},
   "source": [
    "## 国家药监局基于化妆品生产许可证相关数据\n",
    "\n",
    "网址：[化妆品生产许可信息管理平台](http://scxk.nmpa.gov.cn:81/xk/)\n",
    "\n",
    "需求：需要爬取企业的具体信息，非主业列表\n",
    "\n",
    "并不一定能直接从地址栏中请求得到\n",
    "\n",
    "可能是**动态加载**出来的数据\n",
    "\n",
    "对应企业的数据是通过ajax动态请求得到的\n",
    "\n",
    "**<font color=red>未解决</font>**"
   ]
  },
  {
   "cell_type": "code",
   "execution_count": null,
   "id": "eabcb485",
   "metadata": {
    "scrolled": true
   },
   "outputs": [],
   "source": [
    "#国家药监局基于化妆品生产许可证相关数据\n",
    "import requests\n",
    "url = 'http://scxk.nmpa.gov.cn:81/xk/itownet/portalAction.do?method=getXkzsList'\n",
    "data = {\n",
    "    'on': 'true',\n",
    "    'page': '1',\n",
    "    'pageSize': '15',\n",
    "    'productName': '',\n",
    "    'conditionType': '1',\n",
    "    'applyname': '',\n",
    "    'applysn': '',\n",
    "}\n",
    "headers = {\n",
    "    'User-Agent' : 'Mozilla/5.0 (Windows NT 10.0; Win64; x64) AppleWebKit/537.36 (KHTML, like Gecko) Chrome/102.0.5005.63 Safari/537.36 Edg/102.0.1245.30'\n",
    "}\n",
    "id_list = []\n",
    "json_ids = requests.post(url = url, headers = headers, data = data)\n",
    "for dic in json_ids['list']:\n",
    "    id_list.append(dic['ID'])"
   ]
  },
  {
   "cell_type": "markdown",
   "id": "4ec68eda",
   "metadata": {},
   "source": [
    "---"
   ]
  },
  {
   "cell_type": "markdown",
   "id": "f4ac2239",
   "metadata": {},
   "source": [
    "## 数据解析\n",
    "\n",
    "聚焦爬虫：爬取页面指定内容\n",
    "\n",
    "分类：正则、bs4、**xpath**\n",
    "\n",
    "原理：\n",
    "\n",
    "- 解析局部文本内容在标签之间或标签对应的属性中存储\n",
    "\n",
    "- 指定标签进行定位\n",
    "\n",
    "- 标签或标签属性中存储的数据值进行提取（解析）\n",
    "\n",
    "流程：\n",
    "\n",
    "1. 指定url\n",
    "\n",
    "2. 发起请求\n",
    "\n",
    "3. 获取相应数据\n",
    "\n",
    "4. 数据解析\n",
    "\n",
    "5. 持久化存储"
   ]
  },
  {
   "cell_type": "code",
   "execution_count": null,
   "id": "ece24754",
   "metadata": {
    "scrolled": true
   },
   "outputs": [],
   "source": [
    "#爬取图片数据\n",
    "import requests\n",
    "url = 'http://mari.hzau.edu.cn/__local/B/C9/4C/40EE6E9C872EBEF7B0E864D8540_34AE630B_15EF3.jpg'\n",
    "#content返回二进制图像数据\n",
    "#text字符串，content二进制，json对象\n",
    "img_data = requests.get(url = url).content\n",
    "with open('./image.jpg', 'wb') as fp:\n",
    "    fp.write(img_data)"
   ]
  },
  {
   "cell_type": "code",
   "execution_count": null,
   "id": "0a736b05",
   "metadata": {
    "scrolled": true
   },
   "outputs": [],
   "source": [
    "#爬取所有图片数据\n",
    "import requests\n",
    "import re\n",
    "import os\n",
    "#创建文件夹\n",
    "if not os.path.exists('./marilibs'):\n",
    "    os.mkdir('./marilibs')\n",
    "#爬取页面信息\n",
    "url = 'http://mari.hzau.edu.cn/info/1003/3711.htm'\n",
    "headers = {\n",
    "    'User-Agent' : 'Mozilla/5.0 (Windows NT 10.0; Win64; x64) AppleWebKit/537.36 (KHTML, like Gecko) Chrome/102.0.5005.63 Safari/537.36 Edg/102.0.1245.30'\n",
    "}\n",
    "page_text = requests.post(url = url, headers = headers).text\n",
    "#获取图像数据\n",
    "#正则表达式\n",
    "ex = '<p style=\"text-align: center\"><img src=\"(.*?)\" width'\n",
    "img_src_list = re.findall(ex, page_text, re.S)\n",
    "print(img_src_list)\n",
    "#拼接图片地址\n",
    "for src in img_src_list:\n",
    "    src = 'http://mari.hzau.edu.cn' + src\n",
    "    img_data = requests.get(url = src, headers = headers).content\n",
    "#存储图片\n",
    "    img_name = src.split('/')[-1]\n",
    "    imgPath = './marilibs/' + img_name\n",
    "    with open(imgPath, 'wb') as fp:\n",
    "        fp.write(img_data)\n",
    "        print(img_name, '下载成功！')"
   ]
  },
  {
   "cell_type": "markdown",
   "id": "30c54585",
   "metadata": {},
   "source": [
    "## 分页爬取\n",
    "\n",
    "url当中包含通用，也包含页码参数，通过循环将页码拼接到通用url当中进行循环\n",
    "\n",
    "网页来源：[【壁纸】抱图吱声 壁纸头像各种类型](https://jump2.bdimg.com/p/4378860308)"
   ]
  },
  {
   "cell_type": "code",
   "execution_count": null,
   "id": "d55dce4e",
   "metadata": {
    "scrolled": true
   },
   "outputs": [],
   "source": [
    "#爬取贴吧壁纸图片数据\n",
    "import requests\n",
    "import re\n",
    "import os\n",
    "#创建文件夹\n",
    "if not os.path.exists('./wallpapers'):\n",
    "    os.mkdir('./wallpapers')\n",
    "#UA伪装\n",
    "headers = {\n",
    "    'User-Agent' : 'Mozilla/5.0 (Windows NT 10.0; Win64; x64) AppleWebKit/537.36 (KHTML, like Gecko) Chrome/102.0.5005.63 Safari/537.36 Edg/102.0.1245.30'\n",
    "}\n",
    "#设置通用url模板\n",
    "url = 'https://jump2.bdimg.com/p/4378860308?pn=%d'\n",
    "pageNum = 1\n",
    "for pageNum in range(1, 5):\n",
    "    new_url = format(url%pageNum) \n",
    "    page_text = requests.post(url = new_url, headers = headers).text\n",
    "#获取图像数据\n",
    "#正则表达式\n",
    "    ex = '<img class=\"BDE_Image\" src=\"(.*?)\" size'\n",
    "    img_src_list = re.findall(ex, page_text, re.S)\n",
    "    print(img_src_list)\n",
    "#拼接图片地址\n",
    "    for src in img_src_list:\n",
    "        src = src\n",
    "        img_data = requests.get(url = src, headers = headers).content\n",
    "#存储图片\n",
    "        img_name = src.split('/')[-1]\n",
    "        imgPath = './wallpapers/' + img_name\n",
    "        with open(imgPath, 'wb') as fp:\n",
    "            fp.write(img_data)\n",
    "            print(img_name, '下载成功！')"
   ]
  },
  {
   "cell_type": "markdown",
   "id": "ac8db328",
   "metadata": {},
   "source": [
    "## bs4解析\n",
    "\n",
    "Python独有的解析方式\n",
    "\n",
    "原理：\n",
    "- 实例化一个BeautifulSoup对象，并将页面源码加载到该对象中\n",
    "\n",
    "- 通过调用BeautifulSoup对象中的相关属性或方法对标签进行定位和数据提取\n",
    "\n",
    "安装：`bs4`，`lxml`\n",
    "\n",
    "对象的实例化：\n",
    "\n",
    "- 将本地html文档数据加载到对象当中\n",
    "    \n",
    "```python\n",
    "fp = open('./test.html', 'r', encoding = 'utf-8')\n",
    "soup = BeautifulSoup(fp, 'lxml')\n",
    "```\n",
    "\n",
    "- 从网上获取源码加载到该对象中\n",
    "    \n",
    "```python\n",
    "page_text = response.text    \n",
    "soup = BeautifulSoup(page_text, 'lxml')\n",
    "```\n",
    "\n",
    "提供的用于数据解析的方法和属性：\n",
    "\n",
    "- `soup.tagName`返回的是文档中第一个出现的tagName标签\n",
    "\n",
    "- `soup.find`\n",
    "\n",
    "    - 等同于soup.tagName\n",
    "    \n",
    "    - 属性定位：`soup.find('div', class_/id/attr = 'song')`\n",
    "    \n",
    "- `soup.find_all(tagName)`返回符合要求的所有标签\n",
    "\n",
    "- `soup.slelct`\n",
    "\n",
    "    - `select('某种选择器(id, class, 标签...选择器)')`，返回的是一个列表\n",
    "    \n",
    "    - `soup.select('.tang > ul > li > a')[0])`，层级选择器，大于号表示一个层级\n",
    "    \n",
    "    -  `print(soup.select('.tang > ul a'))`，空格表示的是多个层级\n",
    "\n",
    "获取标签之间文本数据：\n",
    "\n",
    "- `soup.a.text/string/get_text()`\n",
    "\n",
    "- `text和get_text()`可以获取某一标签下所有的文本内容\n",
    "\n",
    "- `string`只可以获取该标签下的直系文本\n",
    "\n",
    "获取标签中属性值：\n",
    "\n",
    "- `soup.a['href']`"
   ]
  },
  {
   "cell_type": "code",
   "execution_count": null,
   "id": "7139fd42",
   "metadata": {
    "scrolled": false
   },
   "outputs": [],
   "source": [
    "#将本地html文档数据加载到对象当中\n",
    "from bs4 import BeautifulSoup\n",
    "fp = open('./test.html', 'r', encoding = 'utf-8')\n",
    "soup = BeautifulSoup(fp, 'lxml')\n",
    "#print(soup)\n",
    "#print(soup.a) #soup.tagName返回的是html中第一个出现的a标签\n",
    "#print(soup.div)\n",
    "#print(soup.find('div')) #等同于soup.div\n",
    "#print(soup.find('div', class_ = 'song')) #属性定位\n",
    "#print(soup.find_all('a'))\n",
    "#print(soup.select('.tang'))\n",
    "#print(soup.select('.tang > ul > li > a')[0])\n",
    "#print(soup.select('.tang > ul a')[0].get_text())\n",
    "#print(soup.select('.tang > ul a')[0]['href'])"
   ]
  },
  {
   "cell_type": "code",
   "execution_count": null,
   "id": "1cf738c0",
   "metadata": {
    "scrolled": true
   },
   "outputs": [],
   "source": [
    "#爬取三国演义小说所有章节的标题和内容\n",
    "import requests\n",
    "from bs4 import BeautifulSoup\n",
    "#爬取首页页面数据\n",
    "url = 'https://www.shicimingju.com/book/sanguoyanyi.html'\n",
    "headers = {\n",
    "    'User-Agent' : 'Mozilla/5.0 (Windows NT 10.0; Win64; x64) AppleWebKit/537.36 (KHTML, like Gecko) Chrome/102.0.5005.63 Safari/537.36 Edg/102.0.1245.30'\n",
    "}\n",
    "page_text = requests.get(url = url, headers = headers).content\n",
    "#解析章节标题与详情页\n",
    "soup = BeautifulSoup(page_text, 'lxml')\n",
    "li_list = soup.select('.book-mulu > ul > li')\n",
    "fp = open('./sanguo.txt', 'w', encoding = 'utf-8')\n",
    "for li in li_list:\n",
    "    title = li.a.string\n",
    "    detail_url = 'https://www.shicimingju.com' + li.a['href']\n",
    "    #对详情页发起请求\n",
    "    detail_page_text = requests.get(url = detail_url, headers = headers).content\n",
    "    #解析详情页内容\n",
    "    detail_soup = BeautifulSoup(detail_page_text, 'lxml')\n",
    "    div_tag = detail_soup.find('div', class_ = 'chapter_content')\n",
    "    content = div_tag.text\n",
    "    fp.write(title + ':' +content + '\\n')\n",
    "    print(title, '爬取成功！')"
   ]
  },
  {
   "cell_type": "markdown",
   "id": "7d20d26b",
   "metadata": {},
   "source": [
    "## xpath解析\n",
    "\n",
    "最常用且便捷的解析方式，具备通用性\n",
    "\n",
    "步骤：\n",
    "\n",
    "- 实例化etree对象，需要将被解析的页面源码加载到该对象中\n",
    "\n",
    "- 调用etree对象中的xpath方法结合着xpath、表达式实现标签定位和内容捕获\n",
    "\n",
    "安装`lxml`\n",
    "\n",
    "原理：\n",
    "\n",
    "- 将本地html加载到etree对象中\n",
    "\n",
    "    etree.parse(filpath)\n",
    "    \n",
    "- 将互联网中的源码数据加载\n",
    "\n",
    "    etree.HTML(\"page_text')\n",
    "\n",
    "- xpath('xpath表达式')\n",
    "\n",
    "    - 从根节点开始定位，用单斜杠表示切换层级\n",
    "    \n",
    "    - 双斜杠表示多个层级，可以从任意位置开始定位\n",
    "    \n",
    "    - 属性定位：`//tag[@attrName = \"attrValue\"]`\n",
    "    \n",
    "    - 索引定位：`//div[@class = \"song\"]/p[3]`\n",
    "    \n",
    "    - 取文本：\n",
    "        \n",
    "        - `text()`获取的是标签中直系的文本内容\n",
    "    \n",
    "        - `//text()`标签中非直系的文本内容（所有的文本内容）\n",
    "    \n",
    "    - 取属性：`/attrName`相当于`img/src`"
   ]
  },
  {
   "cell_type": "code",
   "execution_count": 23,
   "id": "030aac08",
   "metadata": {
    "scrolled": true
   },
   "outputs": [
    {
     "name": "stdout",
     "output_type": "stream",
     "text": [
      "杜牧\n"
     ]
    }
   ],
   "source": [
    "from lxml import etree\n",
    "#实例化一个对象\n",
    "tree = etree.parse('./test.html')\n",
    "# r = tree.xpath('/html/body/div') #xpath只能按层级进行定位\n",
    "# r = tree.xpath('/html//div')\n",
    "# r = tree.xpath('//div')\n",
    "# r = tree.xpath('//div[@class = \"song\"]')\n",
    "# r = tree.xpath('//div[@class = \"song\"]/p[3]')\n",
    "# r = tree.xpath('//div[@class = \"tang\"]//li[5]/a/text()')[0] #取文本中的第一个元素\n",
    "# r = tree.xpath('//li[7]//text()')[0]\n",
    "# r = tree.xpath('//div[@class = \"song\"]/img/@src')\n",
    "print(r)"
   ]
  },
  {
   "cell_type": "code",
   "execution_count": 1,
   "id": "be00846e",
   "metadata": {
    "scrolled": true
   },
   "outputs": [
    {
     "name": "stdout",
     "output_type": "stream",
     "text": [
      "全新装修房源   南北通透   厨卫朝北  \n",
      "开发商内部清退房源，低于市场价20万，名额有\n",
      "长宁区 地铁口 精装复式挑高4.5米，民用水\n",
      "松江菜花泾60弄小区3/6楼学区七中\n",
      "地铁口的现房，碧桂园业主诚心出售，真实有效欢\n",
      "民乐城惠益绿苑东苑2室1厅1卫\n",
      "徐汇商圈万体馆周边宛南二村小户型诚意出售\n",
      "首付2成，看房有钥匙，班伡接送，送车位，送，\n",
      "上海五金城复式精装5室3厅2卫1厨\n",
      "浦东曹路民耀路268弄房屋诚意出售\n",
      "阳光城小两房，送20万装修家电家具，自带地下\n",
      "嘉华苑4室3厅3卫自住房源出售\n",
      "浦东曹路阳光苑民耀路268弄诚意出售\n",
      "内环内东外滩鑫隆公寓南北全明3室2厅1卫\n",
      "金地自在城(二期3室2厅1卫\n",
      "中南品质开发，衡水学/校，沪乍杭高铁旁，物美\n",
      "199万!满五一!79平环城新村 两室两厅\n",
      "首付9万 平湖市中区 送车位 高铁旁\n",
      "日月光水岸花园(公寓3室2厅2卫\n",
      "首付15万尖山大湾区 长三角发展区域 送车位\n",
      "静安04年房龄新，投'资，学'区两相宜，房东\n",
      "顶楼复式 双露台 房型正气 自住装修 诚心出\n",
      "西郊九韵城2室1厅1卫\n",
      "首付6万 嘉兴花园电梯洋房 沪乍杭铁路直达 \n",
      "三面采光卧室客厅均朝南，大露台中心位置实际使\n",
      "嘉善，首付36万，送车位，百年，配套成熟，\n",
      "房东急降1048万，装修全送，钥匙房随时看，\n",
      "景源佳苑，12号线东陆路站，豪华婚房装修70\n",
      "东盛公寓6复7，三室两厅\n",
      "本地中介（可落户）外地人可买 送20平花园 \n"
     ]
    }
   ],
   "source": [
    "#爬取58同城二手房信息\n",
    "import requests\n",
    "from lxml import etree\n",
    "#文本获取\n",
    "headers = {\n",
    "    'Uer-Agent': 'Mozilla/5.0 (Windows NT 10.0; Win64; x64) AppleWebKit/537.36 (KHTML, like Gecko) Chrome/102.0.5005.63 Safari/537.36 Edg/102.0.1245.33'\n",
    "}\n",
    "url = 'https://www.58.com/ershoufang/'\n",
    "page_text = requests.get(url = url, headers = headers).text\n",
    "#数据解析\n",
    "tree = etree.HTML(page_text)\n",
    "tr_list = tree.xpath('//div[@class = \"cleft\"]//tr')\n",
    "fp = open('58.txt', 'w', encoding = 'utf-8')\n",
    "for tr in tr_list:\n",
    "    #局部解析\n",
    "    title = tr.xpath('./td[2]/a/text()')[0]\n",
    "    print(title)\n",
    "    fp.write(title + '\\n')"
   ]
  },
  {
   "cell_type": "code",
   "execution_count": 15,
   "id": "877aa82c",
   "metadata": {
    "scrolled": true
   },
   "outputs": [
    {
     "name": "stdout",
     "output_type": "stream",
     "text": [
      "[<Element li at 0x1edb9846540>, <Element li at 0x1edb9846100>, <Element li at 0x1edb9846040>, <Element li at 0x1edb9846140>, <Element li at 0x1edb98460c0>, <Element li at 0x1edb9846200>, <Element li at 0x1edb9846240>, <Element li at 0x1edb98462c0>, <Element li at 0x1edb9846300>, <Element li at 0x1edb98461c0>, <Element li at 0x1edb9846340>, <Element li at 0x1edb9846380>, <Element li at 0x1edb9846280>, <Element li at 0x1edb98463c0>, <Element li at 0x1edb9845180>, <Element li at 0x1edb9845140>, <Element li at 0x1edb9845100>, <Element li at 0x1edb9845080>, <Element li at 0x1edb9845040>, <Element li at 0x1edb98456c0>]\n",
      "居家 浴缸 浴巾 美女 牛仔裤 4k壁纸.jpg http://pic.netbian.com/uploads/allimg/220707/233455-1657208095aec4.jpg\n",
      "居家 浴缸 浴巾 美女 牛仔裤 4k壁纸.jpg 下载成功！\n",
      "古韵 气质 美女 美腿 古装 森系4k美女壁纸.jpg http://pic.netbian.com/uploads/allimg/220715/153854-16578707348791.jpg\n",
      "古韵 气质 美女 美腿 古装 森系4k美女壁纸.jpg 下载成功！\n",
      "cosplay美女 电脑桌 键盘 机房 可爱 小姐姐4k壁纸3840x2160.jpg http://pic.netbian.com/uploads/allimg/210831/102129-16303764895142.jpg\n",
      "cosplay美女 电脑桌 键盘 机房 可爱 小姐姐4k壁纸3840x2160.jpg 下载成功！\n",
      "双手托腮可爱白色清纯美女4k壁纸.jpg http://pic.netbian.com/uploads/allimg/220717/002302-1657988582ec9f.jpg\n",
      "双手托腮可爱白色清纯美女4k壁纸.jpg 下载成功！\n",
      "撑伞的清纯美女回眸4k壁纸3840x2160.jpg http://pic.netbian.com/uploads/allimg/220712/235655-16576414159641.jpg\n",
      "撑伞的清纯美女回眸4k壁纸3840x2160.jpg 下载成功！\n",
      "海琴烟 同人 cosplay美女4K高清壁纸.jpg http://pic.netbian.com/uploads/allimg/211219/114328-1639885408db64.jpg\n",
      "海琴烟 同人 cosplay美女4K高清壁纸.jpg 下载成功！\n",
      "居家 沙发 好看衣服 短裙 好看身材美女美腿4k壁纸3840x2160.jpg http://pic.netbian.com/uploads/allimg/220131/012219-16435633391d32.jpg\n",
      "居家 沙发 好看衣服 短裙 好看身材美女美腿4k壁纸3840x2160.jpg 下载成功！\n",
      "家居 可爱小姐姐 侧躺 好看身材4k美女壁纸.jpg http://pic.netbian.com/uploads/allimg/210827/235918-1630079958392e.jpg\n",
      "家居 可爱小姐姐 侧躺 好看身材4k美女壁纸.jpg 下载成功！\n",
      "红色古装服美女孟子义4k电脑壁纸.jpg http://pic.netbian.com/uploads/allimg/220722/202941-165849298162fe.jpg\n",
      "红色古装服美女孟子义4k电脑壁纸.jpg 下载成功！\n",
      "孟子义 长发侧脸美女4k壁纸.jpg http://pic.netbian.com/uploads/allimg/220722/202622-16584927825078.jpg\n",
      "孟子义 长发侧脸美女4k壁纸.jpg 下载成功！\n",
      "李沁 唯美摄影 鲜花长发美女5k壁纸.jpg http://pic.netbian.com/uploads/allimg/220722/162924-16584785647228.jpg\n",
      "李沁 唯美摄影 鲜花长发美女5k壁纸.jpg 下载成功！\n",
      "好看古装古风美女成果4k壁纸3840x2160.jpg http://pic.netbian.com/uploads/allimg/220716/222754-1657981674a9a5.jpg\n",
      "好看古装古风美女成果4k壁纸3840x2160.jpg 下载成功！\n",
      "敦煌风美女4k壁纸.jpg http://pic.netbian.com/uploads/allimg/220715/171100-1657876260243c.jpg\n",
      "敦煌风美女4k壁纸.jpg 下载成功！\n",
      "汉服古装美女成果4k壁纸.jpg http://pic.netbian.com/uploads/allimg/220716/222533-1657981533ff59.jpg\n",
      "汉服古装美女成果4k壁纸.jpg 下载成功！\n",
      "仙女下凡 床 美女 鲜花 花瓣唯美4k美女壁纸.jpg http://pic.netbian.com/uploads/allimg/220702/222610-1656771970e92c.jpg\n",
      "仙女下凡 床 美女 鲜花 花瓣唯美4k美女壁纸.jpg 下载成功！\n",
      "西装裙 长发美女黑色丝袜美腿4k壁纸3840x2160.jpg http://pic.netbian.com/uploads/allimg/220205/002942-1643992182534d.jpg\n",
      "西装裙 长发美女黑色丝袜美腿4k壁纸3840x2160.jpg 下载成功！\n",
      "鸿音 敦煌 沙子 阳光 好看养眼身材美女4k壁纸.jpg http://pic.netbian.com/uploads/allimg/210718/001826-16265387066216.jpg\n",
      "鸿音 敦煌 沙子 阳光 好看养眼身材美女4k壁纸.jpg 下载成功！\n",
      "草地 婚纱 纱裙 鲜花 唯美 摄影 美女4k高清壁纸.jpg http://pic.netbian.com/uploads/allimg/210922/191729-16323094499dcf.jpg\n",
      "草地 婚纱 纱裙 鲜花 唯美 摄影 美女4k高清壁纸.jpg 下载成功！\n",
      "姜泰莉4k壁纸3840x2160.jpg http://pic.netbian.com/uploads/allimg/210718/000805-16265380858e92.jpg\n",
      "姜泰莉4k壁纸3840x2160.jpg 下载成功！\n",
      "运动美女 网球 王楚然 清新美女4k壁纸.jpg http://pic.netbian.com/uploads/allimg/220702/222125-1656771685f559.jpg\n",
      "运动美女 网球 王楚然 清新美女4k壁纸.jpg 下载成功！\n"
     ]
    }
   ],
   "source": [
    "#解析下载图片数据\n",
    "import requests\n",
    "from lxml import etree\n",
    "import os\n",
    "headers = {\n",
    "    'Uer-Agent': 'Mozilla/5.0 (Windows NT 10.0; Win64; x64) AppleWebKit/537.36 (KHTML, like Gecko) Chrome/102.0.5005.63 Safari/537.36 Edg/102.0.1245.33'\n",
    "}\n",
    "url = 'http://pic.netbian.com/4kmeinv/'\n",
    "response = requests.get(url = url, headers = headers)\n",
    "#手动设置数据编码格式\n",
    "# response.encoding = 'utf-8'\n",
    "page_text = response.text\n",
    "#解析src属性值，alt属性值\n",
    "tree = etree.HTML(page_text)\n",
    "li_list = tree.xpath('//div[@class = \"slist\"]/ul/li')\n",
    "#创建文件夹\n",
    "if not os.path.exists('./piclibs'):\n",
    "    os.mkdir('./piclibs')\n",
    "for li in li_list:\n",
    "    img_src = 'http://pic.netbian.com' + li.xpath('./a/img/@src')[0]\n",
    "    img_name = li.xpath('./a/img/@alt')[0] + '.jpg'\n",
    "    #通用处理中文乱码解决方案\n",
    "    img_name = img_name.encode('iso-8859-1').decode('gbk')\n",
    "    print(img_name, img_src)\n",
    "    #持久化存储\n",
    "    img_data = requests.get(url = img_src, headers = headers).content\n",
    "    img_path = './piclibs/' + img_name\n",
    "    with open(img_path, 'wb') as fp:\n",
    "        fp.write(img_data)\n",
    "        print(img_name, '下载成功！')"
   ]
  },
  {
   "cell_type": "code",
   "execution_count": 3,
   "id": "56d5c003",
   "metadata": {
    "scrolled": true
   },
   "outputs": [
    {
     "name": "stdout",
     "output_type": "stream",
     "text": [
      "['北京', '上海', '广州', '深圳', '杭州', '天津', '成都', '南京', '西安', '武汉', '阿坝州', '安康', '阿克苏地区', '阿里地区', '阿拉善盟', '阿勒泰地区', '安庆', '安顺', '鞍山', '克孜勒苏州', '安阳', '蚌埠', '白城', '保定', '北海', '宝鸡', '北京', '毕节', '博州', '白山', '百色', '保山', '白沙', '包头', '保亭', '本溪', '巴彦淖尔', '白银', '巴中', '滨州', '亳州', '长春', '昌都', '常德', '成都', '承德', '赤峰', '昌吉州', '五家渠', '昌江', '澄迈', '重庆', '长沙', '常熟', '楚雄州', '朝阳', '沧州', '长治', '常州', '潮州', '郴州', '池州', '崇左', '滁州', '定安', '丹东', '东方', '东莞', '德宏州', '大理州', '大连', '大庆', '大同', '定西', '大兴安岭地区', '德阳', '东营', '黔南州', '达州', '德州', '儋州', '鄂尔多斯', '恩施州', '鄂州', '防城港', '佛山', '抚顺', '阜新', '阜阳', '富阳', '抚州', '福州', '广安', '贵港', '桂林', '果洛州', '甘南州', '固原', '广元', '贵阳', '甘孜州', '赣州', '广州', '淮安', '海北州', '鹤壁', '淮北', '河池', '海东地区', '邯郸', '哈尔滨', '合肥', '鹤岗', '黄冈', '黑河', '红河州', '怀化', '呼和浩特', '海口', '呼伦贝尔', '葫芦岛', '哈密地区', '海门', '海南州', '淮南', '黄南州', '衡水', '黄山', '黄石', '和田地区', '海西州', '河源', '衡阳', '汉中', '杭州', '菏泽', '贺州', '湖州', '惠州', '吉安', '金昌', '晋城', '景德镇', '金华', '西双版纳州', '九江', '吉林', '即墨', '江门', '荆门', '佳木斯', '济南', '济宁', '胶南', '酒泉', '句容', '湘西州', '金坛', '鸡西', '嘉兴', '江阴', '揭阳', '济源', '嘉峪关', '胶州', '焦作', '锦州', '晋中', '荆州', '库尔勒', '开封', '黔东南州', '克拉玛依', '昆明', '喀什地区', '昆山', '临安', '六安', '来宾', '聊城', '临沧', '娄底', '乐东', '廊坊', '临汾', '临高', '漯河', '丽江', '吕梁', '陇南', '六盘水', '拉萨', '乐山', '丽水', '凉山州', '陵水', '莱芜', '莱西', '临夏州', '溧阳', '辽阳', '辽源', '临沂', '龙岩', '洛阳', '连云港', '莱州', '兰州', '林芝', '柳州', '泸州', '马鞍山', '牡丹江', '茂名', '眉山', '绵阳', '梅州', '宁波', '南昌', '南充', '宁德', '内江', '南京', '怒江州', '南宁', '南平', '那曲地区', '南通', '南阳', '平度', '平顶山', '普洱', '盘锦', '蓬莱', '平凉', '莆田', '萍乡', '濮阳', '攀枝花', '青岛', '琼海', '秦皇岛', '曲靖', '潜江', '齐齐哈尔', '七台河', '黔西南州', '清远', '庆阳', '钦州', '衢州', '泉州', '琼中', '荣成', '日喀则', '乳山', '日照', '韶关', '寿光', '上海', '绥化', '石河子', '石家庄', '商洛', '三明', '三门峡', '山南', '遂宁', '神农架林区', '四平', '商丘', '宿迁', '上饶', '汕头', '汕尾', '绍兴', '三亚', '邵阳', '沈阳', '十堰', '松原', '双鸭山', '深圳', '朔州', '宿州', '随州', '苏州', '石嘴山', '泰安', '塔城地区', '太仓', '铜川', '屯昌', '通化', '天津', '铁岭', '通辽', '铜陵', '吐鲁番地区', '天门', '铜仁地区', '唐山', '天水', '太原', '台州', '泰州', '文昌', '文登', '潍坊', '瓦房店', '威海', '乌海', '芜湖', '武汉', '吴江', '乌兰察布', '乌鲁木齐', '渭南', '万宁', '文山州', '武威', '无锡', '温州', '吴忠', '梧州', '五指山', '西安', '兴安盟', '许昌', '宣城', '襄阳', '孝感', '迪庆州', '辛集', '锡林郭勒盟', '厦门', '西宁', '咸宁', '湘潭', '邢台', '仙桃', '新乡', '咸阳', '新余', '信阳', '忻州', '徐州', '雅安', '延安', '延边州', '宜宾', '盐城', '宜昌', '宜春', '银川', '运城', '伊春', '云浮', '阳江', '营口', '榆林', '玉林', '伊犁哈萨克州', '阳泉', '玉树州', '烟台', '鹰潭', '义乌', '宜兴', '玉溪', '益阳', '岳阳', '扬州', '永州', '淄博', '自贡', '珠海', '湛江', '镇江', '诸暨', '张家港', '张家界', '张家口', '周口', '驻马店', '章丘', '肇庆', '中山', '舟山', '昭通', '中卫', '张掖', '招远', '资阳', '遵义', '枣庄', '漳州', '郑州', '株洲'] 399\n"
     ]
    }
   ],
   "source": [
    "#爬取全国城市的名称\n",
    "import requests\n",
    "from lxml import etree\n",
    "headers = {\n",
    "    'User-Agent': 'Mozilla/5.0 (Windows NT 10.0; Win64; x64) AppleWebKit/537.36 (KHTML, like Gecko) Chrome/102.0.5005.63 Safari/537.36 Edg/102.0.1245.33'\n",
    "}\n",
    "url = 'https://www.aqistudy.cn/historydata/'\n",
    "page_text = requests.get(url = url, headers = headers).text\n",
    "tree = etree.HTML(page_text)\n",
    "all_city_names = []\n",
    "#解析热门城市\n",
    "hot_city_list = tree.xpath('//div[@class = \"bottom\"]/ul/li')\n",
    "for li in hot_city_list:\n",
    "    hot_city_name = li.xpath('./a/text()')[0]\n",
    "    all_city_names.append(hot_city_name)\n",
    "#解析所有城市\n",
    "city_names_list = tree.xpath('//div[@class = \"bottom\"]/ul/div[2]/li')\n",
    "for li in city_names_list:\n",
    "    city_name = li.xpath('./a/text()')[0]\n",
    "    all_city_names.append(city_name)\n",
    "print(all_city_names, len(all_city_names))"
   ]
  },
  {
   "cell_type": "code",
   "execution_count": 4,
   "id": "f114c93d",
   "metadata": {},
   "outputs": [
    {
     "name": "stdout",
     "output_type": "stream",
     "text": [
      "['北京', '上海', '广州', '深圳', '杭州', '天津', '成都', '南京', '西安', '武汉', '阿坝州', '安康', '阿克苏地区', '阿里地区', '阿拉善盟', '阿勒泰地区', '安庆', '安顺', '鞍山', '克孜勒苏州', '安阳', '蚌埠', '白城', '保定', '北海', '宝鸡', '北京', '毕节', '博州', '白山', '百色', '保山', '白沙', '包头', '保亭', '本溪', '巴彦淖尔', '白银', '巴中', '滨州', '亳州', '长春', '昌都', '常德', '成都', '承德', '赤峰', '昌吉州', '五家渠', '昌江', '澄迈', '重庆', '长沙', '常熟', '楚雄州', '朝阳', '沧州', '长治', '常州', '潮州', '郴州', '池州', '崇左', '滁州', '定安', '丹东', '东方', '东莞', '德宏州', '大理州', '大连', '大庆', '大同', '定西', '大兴安岭地区', '德阳', '东营', '黔南州', '达州', '德州', '儋州', '鄂尔多斯', '恩施州', '鄂州', '防城港', '佛山', '抚顺', '阜新', '阜阳', '富阳', '抚州', '福州', '广安', '贵港', '桂林', '果洛州', '甘南州', '固原', '广元', '贵阳', '甘孜州', '赣州', '广州', '淮安', '海北州', '鹤壁', '淮北', '河池', '海东地区', '邯郸', '哈尔滨', '合肥', '鹤岗', '黄冈', '黑河', '红河州', '怀化', '呼和浩特', '海口', '呼伦贝尔', '葫芦岛', '哈密地区', '海门', '海南州', '淮南', '黄南州', '衡水', '黄山', '黄石', '和田地区', '海西州', '河源', '衡阳', '汉中', '杭州', '菏泽', '贺州', '湖州', '惠州', '吉安', '金昌', '晋城', '景德镇', '金华', '西双版纳州', '九江', '吉林', '即墨', '江门', '荆门', '佳木斯', '济南', '济宁', '胶南', '酒泉', '句容', '湘西州', '金坛', '鸡西', '嘉兴', '江阴', '揭阳', '济源', '嘉峪关', '胶州', '焦作', '锦州', '晋中', '荆州', '库尔勒', '开封', '黔东南州', '克拉玛依', '昆明', '喀什地区', '昆山', '临安', '六安', '来宾', '聊城', '临沧', '娄底', '乐东', '廊坊', '临汾', '临高', '漯河', '丽江', '吕梁', '陇南', '六盘水', '拉萨', '乐山', '丽水', '凉山州', '陵水', '莱芜', '莱西', '临夏州', '溧阳', '辽阳', '辽源', '临沂', '龙岩', '洛阳', '连云港', '莱州', '兰州', '林芝', '柳州', '泸州', '马鞍山', '牡丹江', '茂名', '眉山', '绵阳', '梅州', '宁波', '南昌', '南充', '宁德', '内江', '南京', '怒江州', '南宁', '南平', '那曲地区', '南通', '南阳', '平度', '平顶山', '普洱', '盘锦', '蓬莱', '平凉', '莆田', '萍乡', '濮阳', '攀枝花', '青岛', '琼海', '秦皇岛', '曲靖', '潜江', '齐齐哈尔', '七台河', '黔西南州', '清远', '庆阳', '钦州', '衢州', '泉州', '琼中', '荣成', '日喀则', '乳山', '日照', '韶关', '寿光', '上海', '绥化', '石河子', '石家庄', '商洛', '三明', '三门峡', '山南', '遂宁', '神农架林区', '四平', '商丘', '宿迁', '上饶', '汕头', '汕尾', '绍兴', '三亚', '邵阳', '沈阳', '十堰', '松原', '双鸭山', '深圳', '朔州', '宿州', '随州', '苏州', '石嘴山', '泰安', '塔城地区', '太仓', '铜川', '屯昌', '通化', '天津', '铁岭', '通辽', '铜陵', '吐鲁番地区', '天门', '铜仁地区', '唐山', '天水', '太原', '台州', '泰州', '文昌', '文登', '潍坊', '瓦房店', '威海', '乌海', '芜湖', '武汉', '吴江', '乌兰察布', '乌鲁木齐', '渭南', '万宁', '文山州', '武威', '无锡', '温州', '吴忠', '梧州', '五指山', '西安', '兴安盟', '许昌', '宣城', '襄阳', '孝感', '迪庆州', '辛集', '锡林郭勒盟', '厦门', '西宁', '咸宁', '湘潭', '邢台', '仙桃', '新乡', '咸阳', '新余', '信阳', '忻州', '徐州', '雅安', '延安', '延边州', '宜宾', '盐城', '宜昌', '宜春', '银川', '运城', '伊春', '云浮', '阳江', '营口', '榆林', '玉林', '伊犁哈萨克州', '阳泉', '玉树州', '烟台', '鹰潭', '义乌', '宜兴', '玉溪', '益阳', '岳阳', '扬州', '永州', '淄博', '自贡', '珠海', '湛江', '镇江', '诸暨', '张家港', '张家界', '张家口', '周口', '驻马店', '章丘', '肇庆', '中山', '舟山', '昭通', '中卫', '张掖', '招远', '资阳', '遵义', '枣庄', '漳州', '郑州', '株洲'] 399\n"
     ]
    }
   ],
   "source": [
    "#爬取全国城市的名称\n",
    "import requests\n",
    "from lxml import etree\n",
    "headers = {\n",
    "    'User-Agent': 'Mozilla/5.0 (Windows NT 10.0; Win64; x64) AppleWebKit/537.36 (KHTML, like Gecko) Chrome/102.0.5005.63 Safari/537.36 Edg/102.0.1245.33'\n",
    "}\n",
    "url = 'https://www.aqistudy.cn/historydata/'\n",
    "page_text = requests.get(url=url, headers=headers).text\n",
    "tree = etree.HTML(page_text)\n",
    "#解析到热门城市和所有城市对应的a标签\n",
    "# //div[@class=\"bottom\"]/ul/li/          热门城市a标签的层级关系\n",
    "# //div[@class=\"bottom\"]/ul/div[2]/li/a  全部城市a标签的层级关系\n",
    "a_list = tree.xpath('//div[@class=\"bottom\"]/ul/li/a | //div[@class=\"bottom\"]/ul/div[2]/li/a')\n",
    "all_city_names = []\n",
    "for a in a_list:\n",
    "    city_name = a.xpath('./text()')[0]\n",
    "    all_city_names.append(city_name)\n",
    "print(all_city_names,len(all_city_names))"
   ]
  },
  {
   "cell_type": "markdown",
   "id": "795da901",
   "metadata": {},
   "source": [
    "## 作业：站长素材中免费简历模板\n",
    "\n"
   ]
  },
  {
   "cell_type": "code",
   "execution_count": 44,
   "id": "7754aea6",
   "metadata": {},
   "outputs": [
    {
     "name": "stdout",
     "output_type": "stream",
     "text": [
      "高级财务经理简历模板免费下载 下载成功\n",
      "水彩背景个人简历表格模板word 下载成功\n",
      "工程造价自考个人简历表格 下载成功\n",
      "小升初免费简历模板电子版 下载成功\n",
      "办公室文员岗位求职简历模板 下载成功\n",
      "房地产买卖经纪人简历模板下载 下载成功\n",
      "韩语专业个人简历模板范文 下载成功\n",
      "机电技术与应用个人简历模板 下载成功\n",
      "软件技术电子版个人简历表格 下载成功\n",
      "销售经理简历模板免费下载 下载成功\n",
      "会计出纳个人简历表格模板 下载成功\n",
      "在校学生个人简历封面模板 下载成功\n",
      "应届生药剂师大学生简历模板 下载成功\n",
      "语文老师个人简历模板范文 下载成功\n",
      "个人简历封面模板简洁 下载成功\n",
      "微商自我介绍简短模板 下载成功\n",
      "个人简历封面图片可编辑 下载成功\n",
      "学前教育个人简历表格样式 下载成功\n",
      "应届建筑工程简历制作免费模板 下载成功\n",
      "物业管理个人简历模板范文 下载成功\n"
     ]
    }
   ],
   "source": [
    "import requests\n",
    "from lxml import etree\n",
    "headers = {\n",
    "    'User-Agent': 'Mozilla/5.0 (Windows NT 10.0; Win64; x64) AppleWebKit/537.36 (KHTML, like Gecko) Chrome/102.0.5005.63 Safari/537.36 Edg/102.0.1245.33'\n",
    "}\n",
    "url = 'https://sc.chinaz.com/jianli/free.html'\n",
    "page_text = requests.get(url = url, headers = headers).text\n",
    "tree = etree.HTML(page_text)\n",
    "url_list = tree.xpath('//div[@id = \"container\"]//p')\n",
    "alt_list = tree.xpath('//div[@id = \"container\"]/div')\n",
    "if not os.path.exists('./cv'):\n",
    "    os.mkdir('./cv')\n",
    "for url in url_list:\n",
    "    cv_url = 'https:' + url.xpath('.//a/@href')[0]\n",
    "    cv_text = requests.get(url = cv_url, headers = headers).text\n",
    "    tree = etree.HTML(cv_text)\n",
    "    download_url = tree.xpath('//div[@id = \"down\"]/div[2]/ul/li[3]/a/@href')[0]\n",
    "    cv_name = tree.xpath('//div[@class = \"bggray clearfix\"]//h1')\n",
    "    for name in cv_name:\n",
    "        download_name = name.xpath('./text()')[0]\n",
    "        download_name = download_name.encode('iso-8859-1').decode('utf-8')\n",
    "        cv_path = 'cv/' + download_name + '.rar'\n",
    "        cv_data = requests.get(url = download_url,headers = headers).content\n",
    "        with open(cv_path, 'wb') as fp:\n",
    "            fp.write(cv_data)\n",
    "            print(download_name, '下载成功')"
   ]
  },
  {
   "cell_type": "code",
   "execution_count": null,
   "id": "a90e5267",
   "metadata": {},
   "outputs": [],
   "source": []
  }
 ],
 "metadata": {
  "kernelspec": {
   "display_name": "Python 3 (ipykernel)",
   "language": "python",
   "name": "python3"
  },
  "language_info": {
   "codemirror_mode": {
    "name": "ipython",
    "version": 3
   },
   "file_extension": ".py",
   "mimetype": "text/x-python",
   "name": "python",
   "nbconvert_exporter": "python",
   "pygments_lexer": "ipython3",
   "version": "3.9.7"
  }
 },
 "nbformat": 4,
 "nbformat_minor": 5
}
