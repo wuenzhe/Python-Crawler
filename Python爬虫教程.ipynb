{
 "cells": [
  {
   "cell_type": "markdown",
   "id": "05902167-2c12-4e7b-9811-505af3f77e8c",
   "metadata": {
    "tags": []
   },
   "source": [
    "# Python爬虫教程\n",
    "\n",
    "课程来源：[Python超强爬虫8天速成（完整版）爬取各种网站数据实战案例](https://www.bilibili.com/video/BV1ha4y1H7sx?p=6&spm_id_from=pageDriver)\n",
    "\n",
    "## 使用场景\n",
    "\n",
    "通用爬虫：抓取系统的组成部分，抓取一张页面数据\n",
    "\n",
    "聚焦爬虫：在通用的基础上，抓取特定内容\n",
    "\n",
    "增量式爬虫：检测网站中数据更新"
   ]
  },
  {
   "cell_type": "markdown",
   "id": "8ffbfde9-d1a3-4794-a671-ecd6c58bac85",
   "metadata": {
    "tags": []
   },
   "source": [
    "## http协议\n",
    "服务器与客户端进行数据交互的一种形式\n",
    "\n",
    "常用请求头信息\n",
    "\n",
    "- User-Agent：请求载体的身份标识\n",
    "\n",
    "- Connection：请求完毕后，是断开连接还是保持\n",
    "\n",
    "常用响应头协议\n",
    "- Content-Type：服务器响应客户端的数据类型\n",
    "\n",
    "## https协议\n",
    "\n",
    "- 安全的超文本协议\n",
    "\n",
    "加密方式\n",
    "\n",
    "- 对称密钥加密\n",
    "\n",
    "- 非对称密钥加密\n",
    "\n",
    "- 证书密钥加密"
   ]
  },
  {
   "cell_type": "markdown",
   "id": "c2e695c4",
   "metadata": {},
   "source": [
    "---"
   ]
  },
  {
   "cell_type": "markdown",
   "id": "f21161a0-41b6-42ae-8d51-fd9a6eca5076",
   "metadata": {},
   "source": [
    "## requests模块\n",
    "\n",
    "作用：模拟浏览器发送请求\n",
    "\n",
    "如何使用：\n",
    "\n",
    "- 指定url\n",
    "\n",
    "- 发起请求\n",
    "\n",
    "- 获取响应数据\n",
    "\n",
    "- 持久化存储"
   ]
  },
  {
   "cell_type": "code",
   "execution_count": null,
   "id": "2b0b19ed-7588-4cf1-9573-af2a5f3b7569",
   "metadata": {},
   "outputs": [],
   "source": [
    "#需求：爬取搜狗首页\n",
    "import requests\n",
    "#指定url\n",
    "url = 'https://www.sogou.com/'\n",
    "#发起请求\n",
    "#返回响应对象\n",
    "response = requests.get(url = url)\n",
    "#获取响应数据\n",
    "#获取字符串形式的响应数据\n",
    "page_text = response.text\n",
    "print(page_text)\n",
    "#持久化存储\n",
    "with open('./sougou.html', 'w', encoding ='utf-8') as fp:\n",
    "    fp.write(page_text)\n",
    "    print('爬取结束！')"
   ]
  },
  {
   "cell_type": "markdown",
   "id": "0349ec9b-3f04-4f49-8df1-06db8b71e6e0",
   "metadata": {
    "tags": []
   },
   "source": [
    "## 案例\n",
    "\n",
    "- 指定搜索结果页面\n",
    "\n",
    "- 破解百度翻译\n",
    "\n",
    "- 豆瓣电影分类排行榜\n",
    "\n",
    "- 肯德基餐厅查询\n",
    "\n",
    "- 国家药监局相关数据"
   ]
  },
  {
   "cell_type": "markdown",
   "id": "7377ebe9-adfa-47ae-a7f0-0a6feb011e3c",
   "metadata": {
    "tags": []
   },
   "source": [
    "## 指定搜索结果页面\n",
    "\n",
    "### User-Agent伪装\n",
    "\n",
    "UA检测：\n",
    "\n",
    "门户网站的服务器检测对应的请求对应载体身份标识，\n",
    "若检测到载体的身份标识是某一浏览器，则为正常请求，\n",
    "若检测载体的身份标识为非浏览器，则异常，可能拒绝请求。\n",
    "\n",
    "查看方式：\n",
    "\n",
    "`Shift + Ctrl + I`打开浏览器开发者工具，点击网络，选中网站，点击标头，找到User-Agent"
   ]
  },
  {
   "cell_type": "code",
   "execution_count": null,
   "id": "1ee3fa9b-0990-4de2-a9fd-6787ee73fca4",
   "metadata": {},
   "outputs": [],
   "source": [
    "#指定搜索结果页面\n",
    "import requests\n",
    "#UA伪装\n",
    "headers = {\n",
    "    'User-Agent' : 'Mozilla/5.0 (Windows NT 10.0; Win64; x64) AppleWebKit/537.36 (KHTML, like Gecko) Chrome/102.0.5005.63 Safari/537.36 Edg/102.0.1245.30'\n",
    "}\n",
    "url = 'https://www.sogou.com/web'\n",
    "#处理url携带的参数：封装到字典中\n",
    "kw = input('enter a word:')\n",
    "param = {\n",
    "    'query' : kw\n",
    "}\n",
    "#对指定url发起请求是携带参数的，且请求过程中处理了参数\n",
    "response = requests.get(url = url, params = param, headers = headers)\n",
    "page_text = response.text\n",
    "filename = kw + '.html'\n",
    "with open(filename, 'w', encoding = 'utf-8') as fp:\n",
    "    fp.write(page_text)\n",
    "print(filename, '保存成功！')"
   ]
  },
  {
   "cell_type": "markdown",
   "id": "ec8d3bdc-ebc5-4652-88d8-9f3db217f13b",
   "metadata": {},
   "source": [
    "## 破解百度翻译\n",
    "\n",
    "刷新页面的一部分\n",
    "\n",
    "### 相关知识\n",
    "\n",
    "- post请求（携带了参数）\n",
    "\n",
    "- 响应数据是一组\n",
    "\n",
    "### 操作\n",
    "\n",
    "1. `Shift + Ctrl + I`打开开发者工具，点击网络，点击Fetch/XHR\n",
    "\n",
    "2. 点击名称，点击负载，找到显示关键词的组\n",
    "\n",
    "3. 返回标头，复制url\n",
    "\n",
    "4. 在标头中找到Content-Type，显示json则为json方法"
   ]
  },
  {
   "cell_type": "code",
   "execution_count": null,
   "id": "0e1ed7ba-4978-47e0-b669-3350041c35b2",
   "metadata": {},
   "outputs": [],
   "source": [
    "#破解百度翻译\n",
    "import requests\n",
    "import json\n",
    "post_url = 'https://fanyi.baidu.com/sug'\n",
    "#UA伪装\n",
    "headers = {\n",
    "    'User-Agent' : 'Mozilla/5.0 (Windows NT 10.0; Win64; x64) AppleWebKit/537.36 (KHTML, like Gecko) Chrome/102.0.5005.63 Safari/537.36 Edg/102.0.1245.30'\n",
    "}\n",
    "#post请求参数处理（与get相同）\n",
    "word = input('enter a word:')\n",
    "data = {\n",
    "    'kw' : word\n",
    "}\n",
    "#请求发送\n",
    "response = requests.post(url = post_url, data = data, headers = headers)\n",
    "#获取相应数据:json方法返回的是object(响应数据为json类型，才能使用)\n",
    "dic_obj = response.json()\n",
    "#持久化存储\n",
    "filename = word + '.json'\n",
    "fp = open(filename, 'w', encoding = 'utf-8')\n",
    "json.dump(dic_obj, fp = fp, ensure_ascii = False)\n",
    "print('over!')"
   ]
  },
  {
   "cell_type": "markdown",
   "id": "52583cb1",
   "metadata": {},
   "source": [
    "## 豆瓣电影分类排行榜\n",
    "\n",
    "下拉页面会进行部分刷新，如增加电影数量没滚动条位置变化"
   ]
  },
  {
   "cell_type": "code",
   "execution_count": null,
   "id": "a2da95fe",
   "metadata": {},
   "outputs": [],
   "source": [
    "#豆瓣电影分类排行榜\n",
    "import requests\n",
    "import json\n",
    "url = 'https://movie.douban.com/j/chart/top_list'\n",
    "param = {\n",
    "    'type' : '24',\n",
    "    'interval_id' : '100:90',\n",
    "    'action' : '',\n",
    "    'start' : '0', #从库中第几部电影开始取\n",
    "    'limit' : '20', #单次请求取出的个数\n",
    "}\n",
    "headers = {\n",
    "    'User-Agent' : 'Mozilla/5.0 (Windows NT 10.0; Win64; x64) AppleWebKit/537.36 (KHTML, like Gecko) Chrome/102.0.5005.63 Safari/537.36 Edg/102.0.1245.30'\n",
    "}\n",
    "response = requests.get(url = url, params = param, headers = headers)\n",
    "list_data = response.json()\n",
    "fp = open('./douban.json', 'w', encoding = 'utf-8')\n",
    "json.dump(list_data, fp = fp, ensure_ascii = False)\n",
    "print('over!')"
   ]
  },
  {
   "cell_type": "markdown",
   "id": "56cf8b22",
   "metadata": {},
   "source": [
    "## 作业：肯德基餐厅查询\n",
    "\n",
    "重点：\n",
    "\n",
    "1. 确定网址的url\n",
    "\n",
    "2. 确定post请求还是get请求\n",
    "\n",
    "3. 确定响应数据是text还是json"
   ]
  },
  {
   "cell_type": "code",
   "execution_count": null,
   "id": "7794a0b1",
   "metadata": {},
   "outputs": [],
   "source": [
    "#作业：肯德基餐厅查询\n",
    "import requests\n",
    "url = 'https://www.kfc.com.cn/kfccda/ashx/GetStoreList.ashx?op=keyword'\n",
    "word = input('enter a city:')\n",
    "data = {\n",
    "    'cname' : '',\n",
    "    'pid' : '',\n",
    "    'keyword' : word,\n",
    "    'pageIndex' : '1',\n",
    "    'pageSize' : '10',\n",
    "}\n",
    "headers = {\n",
    "    'User-Agent' : 'Mozilla/5.0 (Windows NT 10.0; Win64; x64) AppleWebKit/537.36 (KHTML, like Gecko) Chrome/102.0.5005.63 Safari/537.36 Edg/102.0.1245.30'\n",
    "}\n",
    "response = requests.post(url = url, data = data, headers = headers)\n",
    "page_text = response.text\n",
    "filename = word + '.html'\n",
    "with open(filename, 'w', encoding = 'utf-8') as fp:\n",
    "    fp.write(page_text)\n",
    "print(filename, '保存成功！')"
   ]
  },
  {
   "cell_type": "markdown",
   "id": "b81e4e4b",
   "metadata": {},
   "source": [
    "## 国家药监局基于化妆品生产许可证相关数据\n",
    "\n",
    "网址：[化妆品生产许可信息管理平台](http://scxk.nmpa.gov.cn:81/xk/)\n",
    "\n",
    "需求：需要爬取企业的具体信息，非主业列表\n",
    "\n",
    "并不一定能直接从地址栏中请求得到\n",
    "\n",
    "可能是**动态加载**出来的数据\n",
    "\n",
    "对应企业的数据是通过ajax动态请求得到的\n",
    "\n",
    "**<font color=red>未解决</font>**"
   ]
  },
  {
   "cell_type": "code",
   "execution_count": null,
   "id": "eabcb485",
   "metadata": {},
   "outputs": [],
   "source": [
    "#国家药监局基于化妆品生产许可证相关数据\n",
    "import requests\n",
    "url = 'http://scxk.nmpa.gov.cn:81/xk/itownet/portalAction.do?method=getXkzsList'\n",
    "data = {\n",
    "    'on': 'true',\n",
    "    'page': '1',\n",
    "    'pageSize': '15',\n",
    "    'productName': '',\n",
    "    'conditionType': '1',\n",
    "    'applyname': '',\n",
    "    'applysn': '',\n",
    "}\n",
    "headers = {\n",
    "    'User-Agent' : 'Mozilla/5.0 (Windows NT 10.0; Win64; x64) AppleWebKit/537.36 (KHTML, like Gecko) Chrome/102.0.5005.63 Safari/537.36 Edg/102.0.1245.30'\n",
    "}\n",
    "id_list = []\n",
    "json_ids = requests.post(url = url, headers = headers, data = data)\n",
    "for dic in json_ids['list']:\n",
    "    id_list.append(dic['ID'])"
   ]
  },
  {
   "cell_type": "markdown",
   "id": "4ec68eda",
   "metadata": {},
   "source": [
    "---"
   ]
  },
  {
   "cell_type": "markdown",
   "id": "f4ac2239",
   "metadata": {},
   "source": [
    "## 数据解析\n",
    "\n",
    "聚焦爬虫：爬取页面指定内容\n",
    "\n",
    "分类：正则、bs4、**xpath**\n",
    "\n",
    "原理：\n",
    "\n",
    "- 解析局部文本内容在标签之间或标签对应的属性中存储\n",
    "\n",
    "- 指定标签进行定位\n",
    "\n",
    "- 标签或标签属性中存储的数据值进行提取（解析）\n",
    "\n",
    "流程：\n",
    "\n",
    "1. 指定url\n",
    "\n",
    "2. 发起请求\n",
    "\n",
    "3. 获取相应数据\n",
    "\n",
    "4. 数据解析\n",
    "\n",
    "5. 持久化存储"
   ]
  },
  {
   "cell_type": "code",
   "execution_count": null,
   "id": "ece24754",
   "metadata": {},
   "outputs": [],
   "source": [
    "#爬取图片数据\n",
    "import requests\n",
    "url = 'http://mari.hzau.edu.cn/__local/B/C9/4C/40EE6E9C872EBEF7B0E864D8540_34AE630B_15EF3.jpg'\n",
    "#content返回二进制图像数据\n",
    "#text字符串，content二进制，json对象\n",
    "img_data = requests.get(url = url).content\n",
    "with open('./image.jpg', 'wb') as fp:\n",
    "    fp.write(img_data)"
   ]
  },
  {
   "cell_type": "code",
   "execution_count": null,
   "id": "0a736b05",
   "metadata": {},
   "outputs": [],
   "source": [
    "#爬取所有图片数据\n",
    "import requests\n",
    "import re\n",
    "import os\n",
    "#创建文件夹\n",
    "if not os.path.exists('./marilibs'):\n",
    "    os.mkdir('./marilibs')\n",
    "#爬取页面信息\n",
    "url = 'http://mari.hzau.edu.cn/info/1003/3711.htm'\n",
    "headers = {\n",
    "    'User-Agent' : 'Mozilla/5.0 (Windows NT 10.0; Win64; x64) AppleWebKit/537.36 (KHTML, like Gecko) Chrome/102.0.5005.63 Safari/537.36 Edg/102.0.1245.30'\n",
    "}\n",
    "page_text = requests.post(url = url, headers = headers).text\n",
    "#获取图像数据\n",
    "#正则表达式\n",
    "ex = '<p style=\"text-align: center\"><img src=\"(.*?)\" width'\n",
    "img_src_list = re.findall(ex, page_text, re.S)\n",
    "print(img_src_list)\n",
    "#拼接图片地址\n",
    "for src in img_src_list:\n",
    "    src = 'http://mari.hzau.edu.cn' + src\n",
    "    img_data = requests.get(url = src, headers = headers).content\n",
    "#存储图片\n",
    "    img_name = src.split('/')[-1]\n",
    "    imgPath = './marilibs/' + img_name\n",
    "    with open(imgPath, 'wb') as fp:\n",
    "        fp.write(img_data)\n",
    "        print(img_name, '下载成功！')"
   ]
  },
  {
   "cell_type": "code",
   "execution_count": null,
   "id": "de9c4306",
   "metadata": {},
   "outputs": [],
   "source": []
  }
 ],
 "metadata": {
  "kernelspec": {
   "display_name": "Python 3 (ipykernel)",
   "language": "python",
   "name": "python3"
  },
  "language_info": {
   "codemirror_mode": {
    "name": "ipython",
    "version": 3
   },
   "file_extension": ".py",
   "mimetype": "text/x-python",
   "name": "python",
   "nbconvert_exporter": "python",
   "pygments_lexer": "ipython3",
   "version": "3.9.7"
  }
 },
 "nbformat": 4,
 "nbformat_minor": 5
}
